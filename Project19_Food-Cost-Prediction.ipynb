{
 "cells": [
  {
   "cell_type": "markdown",
   "metadata": {},
   "source": [
    "#Project19-To perform EDA and predict the restaurant food cost on the basis of many other factors"
   ]
  },
  {
   "cell_type": "code",
   "execution_count": 55,
   "metadata": {},
   "outputs": [],
   "source": [
    "#Importing some neccessary libraries\n",
    "import pandas as pd\n",
    "import numpy as np\n",
    "import warnings\n",
    "warnings.filterwarnings(\"ignore\")"
   ]
  },
  {
   "cell_type": "code",
   "execution_count": 56,
   "metadata": {},
   "outputs": [],
   "source": [
    "train=pd.read_excel('C:/Users/Arjun Rao/Downloads/hotel/Data_Train.xlsx')\n",
    "test=pd.read_excel('C:/Users/Arjun Rao/Downloads/hotel/Data_Test.xlsx')\n",
    "train['type']='train'\n",
    "test['type']='test'"
   ]
  },
  {
   "cell_type": "code",
   "execution_count": 57,
   "metadata": {},
   "outputs": [
    {
     "data": {
      "text/html": [
       "<div>\n",
       "<style scoped>\n",
       "    .dataframe tbody tr th:only-of-type {\n",
       "        vertical-align: middle;\n",
       "    }\n",
       "\n",
       "    .dataframe tbody tr th {\n",
       "        vertical-align: top;\n",
       "    }\n",
       "\n",
       "    .dataframe thead th {\n",
       "        text-align: right;\n",
       "    }\n",
       "</style>\n",
       "<table border=\"1\" class=\"dataframe\">\n",
       "  <thead>\n",
       "    <tr style=\"text-align: right;\">\n",
       "      <th></th>\n",
       "      <th>CITY</th>\n",
       "      <th>COST</th>\n",
       "      <th>CUISINES</th>\n",
       "      <th>LOCALITY</th>\n",
       "      <th>RATING</th>\n",
       "      <th>RESTAURANT_ID</th>\n",
       "      <th>TIME</th>\n",
       "      <th>TITLE</th>\n",
       "      <th>VOTES</th>\n",
       "      <th>type</th>\n",
       "    </tr>\n",
       "  </thead>\n",
       "  <tbody>\n",
       "    <tr>\n",
       "      <td>0</td>\n",
       "      <td>Thane</td>\n",
       "      <td>1200.0</td>\n",
       "      <td>Malwani, Goan, North Indian</td>\n",
       "      <td>Dombivali East</td>\n",
       "      <td>3.6</td>\n",
       "      <td>9438</td>\n",
       "      <td>11am – 4pm, 7:30pm – 11:30pm (Mon-Sun)</td>\n",
       "      <td>CASUAL DINING</td>\n",
       "      <td>49 votes</td>\n",
       "      <td>train</td>\n",
       "    </tr>\n",
       "    <tr>\n",
       "      <td>1</td>\n",
       "      <td>Chennai</td>\n",
       "      <td>1500.0</td>\n",
       "      <td>Asian, Modern Indian, Japanese</td>\n",
       "      <td>Ramapuram</td>\n",
       "      <td>4.2</td>\n",
       "      <td>13198</td>\n",
       "      <td>6pm – 11pm (Mon-Sun)</td>\n",
       "      <td>CASUAL DINING,BAR</td>\n",
       "      <td>30 votes</td>\n",
       "      <td>train</td>\n",
       "    </tr>\n",
       "    <tr>\n",
       "      <td>2</td>\n",
       "      <td>Chennai</td>\n",
       "      <td>800.0</td>\n",
       "      <td>North Indian, Chinese, Biryani, Hyderabadi</td>\n",
       "      <td>Saligramam</td>\n",
       "      <td>3.8</td>\n",
       "      <td>10915</td>\n",
       "      <td>11am – 3:30pm, 7pm – 11pm (Mon-Sun)</td>\n",
       "      <td>CASUAL DINING</td>\n",
       "      <td>221 votes</td>\n",
       "      <td>train</td>\n",
       "    </tr>\n",
       "    <tr>\n",
       "      <td>3</td>\n",
       "      <td>Mumbai</td>\n",
       "      <td>800.0</td>\n",
       "      <td>Tibetan, Chinese</td>\n",
       "      <td>Bandra West</td>\n",
       "      <td>4.1</td>\n",
       "      <td>6346</td>\n",
       "      <td>11:30am – 1am (Mon-Sun)</td>\n",
       "      <td>QUICK BITES</td>\n",
       "      <td>24 votes</td>\n",
       "      <td>train</td>\n",
       "    </tr>\n",
       "    <tr>\n",
       "      <td>4</td>\n",
       "      <td>Mumbai</td>\n",
       "      <td>300.0</td>\n",
       "      <td>Desserts</td>\n",
       "      <td>Lower Parel</td>\n",
       "      <td>3.8</td>\n",
       "      <td>15387</td>\n",
       "      <td>11am – 1am (Mon-Sun)</td>\n",
       "      <td>DESSERT PARLOR</td>\n",
       "      <td>165 votes</td>\n",
       "      <td>train</td>\n",
       "    </tr>\n",
       "    <tr>\n",
       "      <td>...</td>\n",
       "      <td>...</td>\n",
       "      <td>...</td>\n",
       "      <td>...</td>\n",
       "      <td>...</td>\n",
       "      <td>...</td>\n",
       "      <td>...</td>\n",
       "      <td>...</td>\n",
       "      <td>...</td>\n",
       "      <td>...</td>\n",
       "      <td>...</td>\n",
       "    </tr>\n",
       "    <tr>\n",
       "      <td>4226</td>\n",
       "      <td>New Delhi</td>\n",
       "      <td>NaN</td>\n",
       "      <td>North Indian, Mughlai, Chinese</td>\n",
       "      <td>Punjabi Bagh</td>\n",
       "      <td>3.9</td>\n",
       "      <td>9057</td>\n",
       "      <td>11:30am – 11:30pm (Mon-Sun)</td>\n",
       "      <td>CASUAL DINING</td>\n",
       "      <td>287 votes</td>\n",
       "      <td>test</td>\n",
       "    </tr>\n",
       "    <tr>\n",
       "      <td>4227</td>\n",
       "      <td>Bangalore</td>\n",
       "      <td>NaN</td>\n",
       "      <td>Biryani, North Indian, Sandwich, Salad, Wraps</td>\n",
       "      <td>HSR Layout</td>\n",
       "      <td>4.3</td>\n",
       "      <td>1247</td>\n",
       "      <td>11am – 1am (Mon-Sun)</td>\n",
       "      <td>None</td>\n",
       "      <td>469 votes</td>\n",
       "      <td>test</td>\n",
       "    </tr>\n",
       "    <tr>\n",
       "      <td>4228</td>\n",
       "      <td>Faridabad</td>\n",
       "      <td>NaN</td>\n",
       "      <td>Continental, North Indian</td>\n",
       "      <td>Sector 86</td>\n",
       "      <td>3.7</td>\n",
       "      <td>8617</td>\n",
       "      <td>9:30am – 10:30pm (Mon-Sun)</td>\n",
       "      <td>QUICK BITES</td>\n",
       "      <td>53 votes</td>\n",
       "      <td>test</td>\n",
       "    </tr>\n",
       "    <tr>\n",
       "      <td>4229</td>\n",
       "      <td>Kochi</td>\n",
       "      <td>NaN</td>\n",
       "      <td>Rolls, Beverages</td>\n",
       "      <td>Kochi</td>\n",
       "      <td>-</td>\n",
       "      <td>6485</td>\n",
       "      <td>11am – 11:30pm (Mon, Tue, Wed, Thu, Sat, Sun),...</td>\n",
       "      <td>QUICK BITES</td>\n",
       "      <td>NaN</td>\n",
       "      <td>test</td>\n",
       "    </tr>\n",
       "    <tr>\n",
       "      <td>4230</td>\n",
       "      <td>Bandra West</td>\n",
       "      <td>NaN</td>\n",
       "      <td>Mughlai</td>\n",
       "      <td>Perry Cross Road</td>\n",
       "      <td>3.7</td>\n",
       "      <td>2421</td>\n",
       "      <td>5pm – 1am (Mon-Sun)</td>\n",
       "      <td>QUICK BITES</td>\n",
       "      <td>63 votes</td>\n",
       "      <td>test</td>\n",
       "    </tr>\n",
       "  </tbody>\n",
       "</table>\n",
       "<p>16921 rows × 10 columns</p>\n",
       "</div>"
      ],
      "text/plain": [
       "             CITY    COST                                       CUISINES  \\\n",
       "0           Thane  1200.0                    Malwani, Goan, North Indian   \n",
       "1         Chennai  1500.0                 Asian, Modern Indian, Japanese   \n",
       "2         Chennai   800.0     North Indian, Chinese, Biryani, Hyderabadi   \n",
       "3          Mumbai   800.0                               Tibetan, Chinese   \n",
       "4          Mumbai   300.0                                       Desserts   \n",
       "...           ...     ...                                            ...   \n",
       "4226    New Delhi     NaN                 North Indian, Mughlai, Chinese   \n",
       "4227    Bangalore     NaN  Biryani, North Indian, Sandwich, Salad, Wraps   \n",
       "4228    Faridabad     NaN                      Continental, North Indian   \n",
       "4229        Kochi     NaN                               Rolls, Beverages   \n",
       "4230  Bandra West     NaN                                        Mughlai   \n",
       "\n",
       "              LOCALITY RATING  RESTAURANT_ID  \\\n",
       "0       Dombivali East    3.6           9438   \n",
       "1            Ramapuram    4.2          13198   \n",
       "2           Saligramam    3.8          10915   \n",
       "3          Bandra West    4.1           6346   \n",
       "4          Lower Parel    3.8          15387   \n",
       "...                ...    ...            ...   \n",
       "4226      Punjabi Bagh    3.9           9057   \n",
       "4227        HSR Layout    4.3           1247   \n",
       "4228         Sector 86    3.7           8617   \n",
       "4229             Kochi      -           6485   \n",
       "4230  Perry Cross Road    3.7           2421   \n",
       "\n",
       "                                                   TIME              TITLE  \\\n",
       "0                11am – 4pm, 7:30pm – 11:30pm (Mon-Sun)      CASUAL DINING   \n",
       "1                                  6pm – 11pm (Mon-Sun)  CASUAL DINING,BAR   \n",
       "2                   11am – 3:30pm, 7pm – 11pm (Mon-Sun)      CASUAL DINING   \n",
       "3                               11:30am – 1am (Mon-Sun)        QUICK BITES   \n",
       "4                                  11am – 1am (Mon-Sun)     DESSERT PARLOR   \n",
       "...                                                 ...                ...   \n",
       "4226                        11:30am – 11:30pm (Mon-Sun)      CASUAL DINING   \n",
       "4227                               11am – 1am (Mon-Sun)               None   \n",
       "4228                         9:30am – 10:30pm (Mon-Sun)        QUICK BITES   \n",
       "4229  11am – 11:30pm (Mon, Tue, Wed, Thu, Sat, Sun),...        QUICK BITES   \n",
       "4230                                5pm – 1am (Mon-Sun)        QUICK BITES   \n",
       "\n",
       "          VOTES   type  \n",
       "0      49 votes  train  \n",
       "1      30 votes  train  \n",
       "2     221 votes  train  \n",
       "3      24 votes  train  \n",
       "4     165 votes  train  \n",
       "...         ...    ...  \n",
       "4226  287 votes   test  \n",
       "4227  469 votes   test  \n",
       "4228   53 votes   test  \n",
       "4229        NaN   test  \n",
       "4230   63 votes   test  \n",
       "\n",
       "[16921 rows x 10 columns]"
      ]
     },
     "execution_count": 57,
     "metadata": {},
     "output_type": "execute_result"
    }
   ],
   "source": [
    "df_hotel=pd.concat([train,test])\n",
    "df_hotel"
   ]
  },
  {
   "cell_type": "code",
   "execution_count": 58,
   "metadata": {},
   "outputs": [
    {
     "data": {
      "text/plain": [
       "((12690, 10), (4231, 9))"
      ]
     },
     "execution_count": 58,
     "metadata": {},
     "output_type": "execute_result"
    }
   ],
   "source": [
    "train.shape, test.shape"
   ]
  },
  {
   "cell_type": "code",
   "execution_count": 59,
   "metadata": {},
   "outputs": [],
   "source": [
    "#Resetting the index inorder to make our data clean and easier to understand\n",
    "df_hotel.reset_index(drop=True,inplace=True)"
   ]
  },
  {
   "cell_type": "code",
   "execution_count": 60,
   "metadata": {},
   "outputs": [
    {
     "data": {
      "text/html": [
       "<div>\n",
       "<style scoped>\n",
       "    .dataframe tbody tr th:only-of-type {\n",
       "        vertical-align: middle;\n",
       "    }\n",
       "\n",
       "    .dataframe tbody tr th {\n",
       "        vertical-align: top;\n",
       "    }\n",
       "\n",
       "    .dataframe thead th {\n",
       "        text-align: right;\n",
       "    }\n",
       "</style>\n",
       "<table border=\"1\" class=\"dataframe\">\n",
       "  <thead>\n",
       "    <tr style=\"text-align: right;\">\n",
       "      <th></th>\n",
       "      <th>CITY</th>\n",
       "      <th>COST</th>\n",
       "      <th>CUISINES</th>\n",
       "      <th>LOCALITY</th>\n",
       "      <th>RATING</th>\n",
       "      <th>RESTAURANT_ID</th>\n",
       "      <th>TIME</th>\n",
       "      <th>TITLE</th>\n",
       "      <th>VOTES</th>\n",
       "      <th>type</th>\n",
       "    </tr>\n",
       "  </thead>\n",
       "  <tbody>\n",
       "    <tr>\n",
       "      <td>16916</td>\n",
       "      <td>New Delhi</td>\n",
       "      <td>NaN</td>\n",
       "      <td>North Indian, Mughlai, Chinese</td>\n",
       "      <td>Punjabi Bagh</td>\n",
       "      <td>3.9</td>\n",
       "      <td>9057</td>\n",
       "      <td>11:30am – 11:30pm (Mon-Sun)</td>\n",
       "      <td>CASUAL DINING</td>\n",
       "      <td>287 votes</td>\n",
       "      <td>test</td>\n",
       "    </tr>\n",
       "    <tr>\n",
       "      <td>16917</td>\n",
       "      <td>Bangalore</td>\n",
       "      <td>NaN</td>\n",
       "      <td>Biryani, North Indian, Sandwich, Salad, Wraps</td>\n",
       "      <td>HSR Layout</td>\n",
       "      <td>4.3</td>\n",
       "      <td>1247</td>\n",
       "      <td>11am – 1am (Mon-Sun)</td>\n",
       "      <td>None</td>\n",
       "      <td>469 votes</td>\n",
       "      <td>test</td>\n",
       "    </tr>\n",
       "    <tr>\n",
       "      <td>16918</td>\n",
       "      <td>Faridabad</td>\n",
       "      <td>NaN</td>\n",
       "      <td>Continental, North Indian</td>\n",
       "      <td>Sector 86</td>\n",
       "      <td>3.7</td>\n",
       "      <td>8617</td>\n",
       "      <td>9:30am – 10:30pm (Mon-Sun)</td>\n",
       "      <td>QUICK BITES</td>\n",
       "      <td>53 votes</td>\n",
       "      <td>test</td>\n",
       "    </tr>\n",
       "    <tr>\n",
       "      <td>16919</td>\n",
       "      <td>Kochi</td>\n",
       "      <td>NaN</td>\n",
       "      <td>Rolls, Beverages</td>\n",
       "      <td>Kochi</td>\n",
       "      <td>-</td>\n",
       "      <td>6485</td>\n",
       "      <td>11am – 11:30pm (Mon, Tue, Wed, Thu, Sat, Sun),...</td>\n",
       "      <td>QUICK BITES</td>\n",
       "      <td>NaN</td>\n",
       "      <td>test</td>\n",
       "    </tr>\n",
       "    <tr>\n",
       "      <td>16920</td>\n",
       "      <td>Bandra West</td>\n",
       "      <td>NaN</td>\n",
       "      <td>Mughlai</td>\n",
       "      <td>Perry Cross Road</td>\n",
       "      <td>3.7</td>\n",
       "      <td>2421</td>\n",
       "      <td>5pm – 1am (Mon-Sun)</td>\n",
       "      <td>QUICK BITES</td>\n",
       "      <td>63 votes</td>\n",
       "      <td>test</td>\n",
       "    </tr>\n",
       "  </tbody>\n",
       "</table>\n",
       "</div>"
      ],
      "text/plain": [
       "              CITY  COST                                       CUISINES  \\\n",
       "16916    New Delhi   NaN                 North Indian, Mughlai, Chinese   \n",
       "16917    Bangalore   NaN  Biryani, North Indian, Sandwich, Salad, Wraps   \n",
       "16918    Faridabad   NaN                      Continental, North Indian   \n",
       "16919        Kochi   NaN                               Rolls, Beverages   \n",
       "16920  Bandra West   NaN                                        Mughlai   \n",
       "\n",
       "               LOCALITY RATING  RESTAURANT_ID  \\\n",
       "16916      Punjabi Bagh    3.9           9057   \n",
       "16917        HSR Layout    4.3           1247   \n",
       "16918         Sector 86    3.7           8617   \n",
       "16919             Kochi      -           6485   \n",
       "16920  Perry Cross Road    3.7           2421   \n",
       "\n",
       "                                                    TIME          TITLE  \\\n",
       "16916                        11:30am – 11:30pm (Mon-Sun)  CASUAL DINING   \n",
       "16917                               11am – 1am (Mon-Sun)           None   \n",
       "16918                         9:30am – 10:30pm (Mon-Sun)    QUICK BITES   \n",
       "16919  11am – 11:30pm (Mon, Tue, Wed, Thu, Sat, Sun),...    QUICK BITES   \n",
       "16920                                5pm – 1am (Mon-Sun)    QUICK BITES   \n",
       "\n",
       "           VOTES  type  \n",
       "16916  287 votes  test  \n",
       "16917  469 votes  test  \n",
       "16918   53 votes  test  \n",
       "16919        NaN  test  \n",
       "16920   63 votes  test  "
      ]
     },
     "execution_count": 60,
     "metadata": {},
     "output_type": "execute_result"
    }
   ],
   "source": [
    "df_hotel.tail()"
   ]
  },
  {
   "cell_type": "code",
   "execution_count": 61,
   "metadata": {},
   "outputs": [
    {
     "data": {
      "text/plain": [
       "CITY              147\n",
       "COST             4231\n",
       "CUISINES            0\n",
       "LOCALITY          128\n",
       "RATING              4\n",
       "RESTAURANT_ID       0\n",
       "TIME                0\n",
       "TITLE               0\n",
       "VOTES            1606\n",
       "type                0\n",
       "dtype: int64"
      ]
     },
     "execution_count": 61,
     "metadata": {},
     "output_type": "execute_result"
    }
   ],
   "source": [
    "#Checking for null values\n",
    "df_hotel.isnull().sum()"
   ]
  },
  {
   "cell_type": "code",
   "execution_count": 62,
   "metadata": {},
   "outputs": [
    {
     "data": {
      "text/html": [
       "<div>\n",
       "<style scoped>\n",
       "    .dataframe tbody tr th:only-of-type {\n",
       "        vertical-align: middle;\n",
       "    }\n",
       "\n",
       "    .dataframe tbody tr th {\n",
       "        vertical-align: top;\n",
       "    }\n",
       "\n",
       "    .dataframe thead th {\n",
       "        text-align: right;\n",
       "    }\n",
       "</style>\n",
       "<table border=\"1\" class=\"dataframe\">\n",
       "  <thead>\n",
       "    <tr style=\"text-align: right;\">\n",
       "      <th></th>\n",
       "      <th>CITY</th>\n",
       "      <th>COST</th>\n",
       "      <th>CUISINES</th>\n",
       "      <th>LOCALITY</th>\n",
       "      <th>RATING</th>\n",
       "      <th>RESTAURANT_ID</th>\n",
       "      <th>TIME</th>\n",
       "      <th>TITLE</th>\n",
       "      <th>VOTES</th>\n",
       "      <th>type</th>\n",
       "    </tr>\n",
       "  </thead>\n",
       "  <tbody>\n",
       "    <tr>\n",
       "      <td>129</td>\n",
       "      <td>NaN</td>\n",
       "      <td>500.0</td>\n",
       "      <td>North Indian, South Indian, Chinese, Continental</td>\n",
       "      <td>NaN</td>\n",
       "      <td>3.6</td>\n",
       "      <td>9101</td>\n",
       "      <td>12noon – 3pm, 7pm – 2am (Mon-Sun)</td>\n",
       "      <td>None</td>\n",
       "      <td>728 votes</td>\n",
       "      <td>train</td>\n",
       "    </tr>\n",
       "    <tr>\n",
       "      <td>246</td>\n",
       "      <td>NaN</td>\n",
       "      <td>300.0</td>\n",
       "      <td>Biryani</td>\n",
       "      <td>Palarivattom Kochi</td>\n",
       "      <td>3.4</td>\n",
       "      <td>14502</td>\n",
       "      <td>12noon – 11pm (Mon-Sun)</td>\n",
       "      <td>QUICK BITES</td>\n",
       "      <td>82 votes</td>\n",
       "      <td>train</td>\n",
       "    </tr>\n",
       "    <tr>\n",
       "      <td>411</td>\n",
       "      <td>NaN</td>\n",
       "      <td>600.0</td>\n",
       "      <td>North Indian, Chinese, Pizza, Burger, Fast Food</td>\n",
       "      <td>NaN</td>\n",
       "      <td>4.0</td>\n",
       "      <td>6313</td>\n",
       "      <td>7pm – 4am (Mon-Sun)</td>\n",
       "      <td>None</td>\n",
       "      <td>29 votes</td>\n",
       "      <td>train</td>\n",
       "    </tr>\n",
       "    <tr>\n",
       "      <td>466</td>\n",
       "      <td>NaN</td>\n",
       "      <td>200.0</td>\n",
       "      <td>North Indian</td>\n",
       "      <td>NaN</td>\n",
       "      <td>4.2</td>\n",
       "      <td>1133</td>\n",
       "      <td>4pm – 9pm (Mon-Sun)</td>\n",
       "      <td>None</td>\n",
       "      <td>55 votes</td>\n",
       "      <td>train</td>\n",
       "    </tr>\n",
       "    <tr>\n",
       "      <td>481</td>\n",
       "      <td>NaN</td>\n",
       "      <td>250.0</td>\n",
       "      <td>Street Food</td>\n",
       "      <td>NaN</td>\n",
       "      <td>3.7</td>\n",
       "      <td>4788</td>\n",
       "      <td>11am – 11pm (Mon),9:30am – 12midnight (Tue-Sun)</td>\n",
       "      <td>None</td>\n",
       "      <td>616 votes</td>\n",
       "      <td>train</td>\n",
       "    </tr>\n",
       "    <tr>\n",
       "      <td>...</td>\n",
       "      <td>...</td>\n",
       "      <td>...</td>\n",
       "      <td>...</td>\n",
       "      <td>...</td>\n",
       "      <td>...</td>\n",
       "      <td>...</td>\n",
       "      <td>...</td>\n",
       "      <td>...</td>\n",
       "      <td>...</td>\n",
       "      <td>...</td>\n",
       "    </tr>\n",
       "    <tr>\n",
       "      <td>16311</td>\n",
       "      <td>NaN</td>\n",
       "      <td>NaN</td>\n",
       "      <td>Continental, Mexican, American</td>\n",
       "      <td>Maharashtra 400013</td>\n",
       "      <td>4.0</td>\n",
       "      <td>9779</td>\n",
       "      <td>5pm – 1:30am (Mon-Sun)</td>\n",
       "      <td>PUB,CASUAL DINING</td>\n",
       "      <td>1142 votes</td>\n",
       "      <td>test</td>\n",
       "    </tr>\n",
       "    <tr>\n",
       "      <td>16313</td>\n",
       "      <td>NaN</td>\n",
       "      <td>NaN</td>\n",
       "      <td>North Indian, South Indian, Chinese, Biryani</td>\n",
       "      <td>NaN</td>\n",
       "      <td>3.5</td>\n",
       "      <td>5922</td>\n",
       "      <td>6am – 11:30pm (Mon-Sun)</td>\n",
       "      <td>CASUAL DINING</td>\n",
       "      <td>102 votes</td>\n",
       "      <td>test</td>\n",
       "    </tr>\n",
       "    <tr>\n",
       "      <td>16803</td>\n",
       "      <td>NaN</td>\n",
       "      <td>NaN</td>\n",
       "      <td>Fast Food, Italian, Pizza, Sandwich</td>\n",
       "      <td>NaN</td>\n",
       "      <td>3.7</td>\n",
       "      <td>4748</td>\n",
       "      <td>1pm – 8am (Mon-Sun)</td>\n",
       "      <td>None</td>\n",
       "      <td>27 votes</td>\n",
       "      <td>test</td>\n",
       "    </tr>\n",
       "    <tr>\n",
       "      <td>16815</td>\n",
       "      <td>NaN</td>\n",
       "      <td>NaN</td>\n",
       "      <td>Chinese, North Indian</td>\n",
       "      <td>NaN</td>\n",
       "      <td>3.5</td>\n",
       "      <td>8587</td>\n",
       "      <td>11:45am – 3:30pm, 7:30pm – 11:40pm (Mon, Sat)...</td>\n",
       "      <td>QUICK BITES</td>\n",
       "      <td>25 votes</td>\n",
       "      <td>test</td>\n",
       "    </tr>\n",
       "    <tr>\n",
       "      <td>16857</td>\n",
       "      <td>NaN</td>\n",
       "      <td>NaN</td>\n",
       "      <td>Lebanese</td>\n",
       "      <td>Chennai</td>\n",
       "      <td>3.7</td>\n",
       "      <td>12015</td>\n",
       "      <td>4pm – 11pm (Mon-Sun)</td>\n",
       "      <td>QUICK BITES</td>\n",
       "      <td>124 votes</td>\n",
       "      <td>test</td>\n",
       "    </tr>\n",
       "  </tbody>\n",
       "</table>\n",
       "<p>147 rows × 10 columns</p>\n",
       "</div>"
      ],
      "text/plain": [
       "      CITY   COST                                          CUISINES  \\\n",
       "129    NaN  500.0  North Indian, South Indian, Chinese, Continental   \n",
       "246    NaN  300.0                                           Biryani   \n",
       "411    NaN  600.0   North Indian, Chinese, Pizza, Burger, Fast Food   \n",
       "466    NaN  200.0                                      North Indian   \n",
       "481    NaN  250.0                                       Street Food   \n",
       "...    ...    ...                                               ...   \n",
       "16311  NaN    NaN                    Continental, Mexican, American   \n",
       "16313  NaN    NaN      North Indian, South Indian, Chinese, Biryani   \n",
       "16803  NaN    NaN               Fast Food, Italian, Pizza, Sandwich   \n",
       "16815  NaN    NaN                             Chinese, North Indian   \n",
       "16857  NaN    NaN                                          Lebanese   \n",
       "\n",
       "                 LOCALITY RATING  RESTAURANT_ID  \\\n",
       "129                   NaN    3.6           9101   \n",
       "246    Palarivattom Kochi    3.4          14502   \n",
       "411                   NaN    4.0           6313   \n",
       "466                   NaN    4.2           1133   \n",
       "481                   NaN    3.7           4788   \n",
       "...                   ...    ...            ...   \n",
       "16311  Maharashtra 400013    4.0           9779   \n",
       "16313                 NaN    3.5           5922   \n",
       "16803                 NaN    3.7           4748   \n",
       "16815                 NaN    3.5           8587   \n",
       "16857             Chennai    3.7          12015   \n",
       "\n",
       "                                                   TIME              TITLE  \\\n",
       "129                   12noon – 3pm, 7pm – 2am (Mon-Sun)               None   \n",
       "246                             12noon – 11pm (Mon-Sun)        QUICK BITES   \n",
       "411                                 7pm – 4am (Mon-Sun)               None   \n",
       "466                                 4pm – 9pm (Mon-Sun)               None   \n",
       "481     11am – 11pm (Mon),9:30am – 12midnight (Tue-Sun)               None   \n",
       "...                                                 ...                ...   \n",
       "16311                            5pm – 1:30am (Mon-Sun)  PUB,CASUAL DINING   \n",
       "16313                           6am – 11:30pm (Mon-Sun)      CASUAL DINING   \n",
       "16803                               1pm – 8am (Mon-Sun)               None   \n",
       "16815  11:45am – 3:30pm, 7:30pm – 11:40pm (Mon, Sat)...        QUICK BITES   \n",
       "16857                              4pm – 11pm (Mon-Sun)        QUICK BITES   \n",
       "\n",
       "            VOTES   type  \n",
       "129     728 votes  train  \n",
       "246      82 votes  train  \n",
       "411      29 votes  train  \n",
       "466      55 votes  train  \n",
       "481     616 votes  train  \n",
       "...           ...    ...  \n",
       "16311  1142 votes   test  \n",
       "16313   102 votes   test  \n",
       "16803    27 votes   test  \n",
       "16815    25 votes   test  \n",
       "16857   124 votes   test  \n",
       "\n",
       "[147 rows x 10 columns]"
      ]
     },
     "execution_count": 62,
     "metadata": {},
     "output_type": "execute_result"
    }
   ],
   "source": [
    "#Checking for missing data\n",
    "df_hotel.loc[df_hotel['CITY'].isnull()]"
   ]
  },
  {
   "cell_type": "markdown",
   "metadata": {},
   "source": [
    "We can see that most of city and locality have null values paralley , we have to fill these values with 'missing'"
   ]
  },
  {
   "cell_type": "code",
   "execution_count": 63,
   "metadata": {},
   "outputs": [],
   "source": [
    "import numpy as np\n",
    "import math\n",
    "null_city=df_hotel.loc[df_hotel[\"CITY\"].isnull()].index\n",
    "for index in null_city :\n",
    "    try:\n",
    "        if math.isnan(df_hotel[\"CITY\"].iloc[index]) and math.isnan(df_hotel[\"LOCALITY\"].iloc[index]):\n",
    "            df_hotel[\"CITY\"].iloc[index]=\"missing\"\n",
    "            df_hotel[\"LOCALITY\"].iloc[index]=\"missing\"\n",
    "    except:\n",
    "        pass"
   ]
  },
  {
   "cell_type": "code",
   "execution_count": 64,
   "metadata": {},
   "outputs": [
    {
     "data": {
      "text/plain": [
       "CITY               20\n",
       "COST             4231\n",
       "CUISINES            0\n",
       "LOCALITY            1\n",
       "RATING              4\n",
       "RESTAURANT_ID       0\n",
       "TIME                0\n",
       "TITLE               0\n",
       "VOTES            1606\n",
       "type                0\n",
       "dtype: int64"
      ]
     },
     "execution_count": 64,
     "metadata": {},
     "output_type": "execute_result"
    }
   ],
   "source": [
    "# checking null values\n",
    "df_hotel.isnull().sum()"
   ]
  },
  {
   "cell_type": "code",
   "execution_count": 65,
   "metadata": {},
   "outputs": [
    {
     "data": {
      "text/html": [
       "<div>\n",
       "<style scoped>\n",
       "    .dataframe tbody tr th:only-of-type {\n",
       "        vertical-align: middle;\n",
       "    }\n",
       "\n",
       "    .dataframe tbody tr th {\n",
       "        vertical-align: top;\n",
       "    }\n",
       "\n",
       "    .dataframe thead th {\n",
       "        text-align: right;\n",
       "    }\n",
       "</style>\n",
       "<table border=\"1\" class=\"dataframe\">\n",
       "  <thead>\n",
       "    <tr style=\"text-align: right;\">\n",
       "      <th></th>\n",
       "      <th>CITY</th>\n",
       "      <th>COST</th>\n",
       "      <th>CUISINES</th>\n",
       "      <th>LOCALITY</th>\n",
       "      <th>RATING</th>\n",
       "      <th>RESTAURANT_ID</th>\n",
       "      <th>TIME</th>\n",
       "      <th>TITLE</th>\n",
       "      <th>VOTES</th>\n",
       "      <th>type</th>\n",
       "    </tr>\n",
       "  </thead>\n",
       "  <tbody>\n",
       "    <tr>\n",
       "      <td>246</td>\n",
       "      <td>NaN</td>\n",
       "      <td>300.0</td>\n",
       "      <td>Biryani</td>\n",
       "      <td>Palarivattom Kochi</td>\n",
       "      <td>3.4</td>\n",
       "      <td>14502</td>\n",
       "      <td>12noon – 11pm (Mon-Sun)</td>\n",
       "      <td>QUICK BITES</td>\n",
       "      <td>82 votes</td>\n",
       "      <td>train</td>\n",
       "    </tr>\n",
       "    <tr>\n",
       "      <td>817</td>\n",
       "      <td>NaN</td>\n",
       "      <td>1200.0</td>\n",
       "      <td>Thai, Chinese, Continental, North Indian, Italian</td>\n",
       "      <td>shop 7 shikrupa socity</td>\n",
       "      <td>4.1</td>\n",
       "      <td>1042</td>\n",
       "      <td>12noon – 12midnight (Mon-Sun)</td>\n",
       "      <td>CASUAL DINING</td>\n",
       "      <td>486 votes</td>\n",
       "      <td>train</td>\n",
       "    </tr>\n",
       "    <tr>\n",
       "      <td>5149</td>\n",
       "      <td>NaN</td>\n",
       "      <td>400.0</td>\n",
       "      <td>Beverages, Ice Cream, Desserts</td>\n",
       "      <td>Navi Mumbai</td>\n",
       "      <td>3.8</td>\n",
       "      <td>7264</td>\n",
       "      <td>11am – 11pm (Mon-Sun)</td>\n",
       "      <td>BEVERAGE SHOP,DESSERT PARLOR</td>\n",
       "      <td>163 votes</td>\n",
       "      <td>train</td>\n",
       "    </tr>\n",
       "    <tr>\n",
       "      <td>5297</td>\n",
       "      <td>NaN</td>\n",
       "      <td>1000.0</td>\n",
       "      <td>Continental</td>\n",
       "      <td>Kochi</td>\n",
       "      <td>3.4</td>\n",
       "      <td>1030</td>\n",
       "      <td>24 Hours (Mon-Sun)</td>\n",
       "      <td>CASUAL DINING</td>\n",
       "      <td>19 votes</td>\n",
       "      <td>train</td>\n",
       "    </tr>\n",
       "    <tr>\n",
       "      <td>6397</td>\n",
       "      <td>NaN</td>\n",
       "      <td>950.0</td>\n",
       "      <td>Cafe, American, Asian, Bakery, Biryani, Chines...</td>\n",
       "      <td>Alibaug</td>\n",
       "      <td>4.2</td>\n",
       "      <td>7334</td>\n",
       "      <td>9am – 9:30pm (Mon-Sun)</td>\n",
       "      <td>CAFÉ</td>\n",
       "      <td>253 votes</td>\n",
       "      <td>train</td>\n",
       "    </tr>\n",
       "    <tr>\n",
       "      <td>6451</td>\n",
       "      <td>NaN</td>\n",
       "      <td>400.0</td>\n",
       "      <td>Bakery</td>\n",
       "      <td>Chennai</td>\n",
       "      <td>3.5</td>\n",
       "      <td>2595</td>\n",
       "      <td>10am – 10pm (Mon-Sun)</td>\n",
       "      <td>BAKERY</td>\n",
       "      <td>10 votes</td>\n",
       "      <td>train</td>\n",
       "    </tr>\n",
       "    <tr>\n",
       "      <td>8456</td>\n",
       "      <td>NaN</td>\n",
       "      <td>150.0</td>\n",
       "      <td>Fast Food, Beverages</td>\n",
       "      <td>Mathikere</td>\n",
       "      <td>3.7</td>\n",
       "      <td>12367</td>\n",
       "      <td>9:30am – 11pm (Mon-Sun)</td>\n",
       "      <td>QUICK BITES</td>\n",
       "      <td>28 votes</td>\n",
       "      <td>train</td>\n",
       "    </tr>\n",
       "    <tr>\n",
       "      <td>8735</td>\n",
       "      <td>NaN</td>\n",
       "      <td>400.0</td>\n",
       "      <td>Chinese, Burger</td>\n",
       "      <td>Chennai</td>\n",
       "      <td>3.8</td>\n",
       "      <td>15526</td>\n",
       "      <td>11am – 11pm (Mon-Sun)</td>\n",
       "      <td>CASUAL DINING</td>\n",
       "      <td>284 votes</td>\n",
       "      <td>train</td>\n",
       "    </tr>\n",
       "    <tr>\n",
       "      <td>9121</td>\n",
       "      <td>NaN</td>\n",
       "      <td>1500.0</td>\n",
       "      <td>Finger Food, American, Continental, Burger, Pizza</td>\n",
       "      <td>Bangalore</td>\n",
       "      <td>3.9</td>\n",
       "      <td>9800</td>\n",
       "      <td>11am – 1am (Mon-Sun)</td>\n",
       "      <td>PUB,CASUAL DINING</td>\n",
       "      <td>557 votes</td>\n",
       "      <td>train</td>\n",
       "    </tr>\n",
       "    <tr>\n",
       "      <td>9268</td>\n",
       "      <td>NaN</td>\n",
       "      <td>200.0</td>\n",
       "      <td>Lebanese</td>\n",
       "      <td>Kochi</td>\n",
       "      <td>3.4</td>\n",
       "      <td>12021</td>\n",
       "      <td>11am – 11pm (Mon-Sun)</td>\n",
       "      <td>QUICK BITES</td>\n",
       "      <td>14 votes</td>\n",
       "      <td>train</td>\n",
       "    </tr>\n",
       "    <tr>\n",
       "      <td>10200</td>\n",
       "      <td>NaN</td>\n",
       "      <td>300.0</td>\n",
       "      <td>North Indian, Chinese, Sandwich, Street Food, ...</td>\n",
       "      <td>Kalyan</td>\n",
       "      <td>3.5</td>\n",
       "      <td>1433</td>\n",
       "      <td>7:30am – 12midnight (Mon, Tue, Wed, Thu, Sat...</td>\n",
       "      <td>QUICK BITES</td>\n",
       "      <td>40 votes</td>\n",
       "      <td>train</td>\n",
       "    </tr>\n",
       "    <tr>\n",
       "      <td>10704</td>\n",
       "      <td>NaN</td>\n",
       "      <td>650.0</td>\n",
       "      <td>Continental, Fast Food</td>\n",
       "      <td>Chennai</td>\n",
       "      <td>4.0</td>\n",
       "      <td>5552</td>\n",
       "      <td>12noon – 12midnight (Mon-Sun)</td>\n",
       "      <td>CASUAL DINING</td>\n",
       "      <td>68 votes</td>\n",
       "      <td>train</td>\n",
       "    </tr>\n",
       "    <tr>\n",
       "      <td>11491</td>\n",
       "      <td>NaN</td>\n",
       "      <td>500.0</td>\n",
       "      <td>Arabian, North Indian, Chinese</td>\n",
       "      <td>Chennai</td>\n",
       "      <td>3.0</td>\n",
       "      <td>954</td>\n",
       "      <td>11am – 11pm (Mon-Sun)</td>\n",
       "      <td>QUICK BITES</td>\n",
       "      <td>109 votes</td>\n",
       "      <td>train</td>\n",
       "    </tr>\n",
       "    <tr>\n",
       "      <td>12314</td>\n",
       "      <td>NaN</td>\n",
       "      <td>650.0</td>\n",
       "      <td>North Indian, Bengali</td>\n",
       "      <td>Opposite to corporation bank and LIC office ba...</td>\n",
       "      <td>4.3</td>\n",
       "      <td>11724</td>\n",
       "      <td>11am – 3:30pm, 7pm – 11pm (Mon-Sun)</td>\n",
       "      <td>CASUAL DINING</td>\n",
       "      <td>775 votes</td>\n",
       "      <td>train</td>\n",
       "    </tr>\n",
       "    <tr>\n",
       "      <td>12447</td>\n",
       "      <td>NaN</td>\n",
       "      <td>350.0</td>\n",
       "      <td>North Indian, Chinese, Mughlai, Seafood</td>\n",
       "      <td>Hyderabad</td>\n",
       "      <td>3.1</td>\n",
       "      <td>7314</td>\n",
       "      <td>12:30pm – 12midnight (Mon-Sun)</td>\n",
       "      <td>QUICK BITES</td>\n",
       "      <td>44 votes</td>\n",
       "      <td>train</td>\n",
       "    </tr>\n",
       "    <tr>\n",
       "      <td>12859</td>\n",
       "      <td>NaN</td>\n",
       "      <td>NaN</td>\n",
       "      <td>North Indian, Chinese</td>\n",
       "      <td>Chennai</td>\n",
       "      <td>3.5</td>\n",
       "      <td>10663</td>\n",
       "      <td>11am – 11pm (Mon-Sun)</td>\n",
       "      <td>QUICK BITES</td>\n",
       "      <td>161 votes</td>\n",
       "      <td>test</td>\n",
       "    </tr>\n",
       "    <tr>\n",
       "      <td>13400</td>\n",
       "      <td>NaN</td>\n",
       "      <td>NaN</td>\n",
       "      <td>Arabian, North Indian, Chinese</td>\n",
       "      <td>Chennai</td>\n",
       "      <td>3.4</td>\n",
       "      <td>451</td>\n",
       "      <td>12noon – 3pm, 5:30pm – 11pm (Mon-Sun)</td>\n",
       "      <td>QUICK BITES</td>\n",
       "      <td>69 votes</td>\n",
       "      <td>test</td>\n",
       "    </tr>\n",
       "    <tr>\n",
       "      <td>14044</td>\n",
       "      <td>NaN</td>\n",
       "      <td>NaN</td>\n",
       "      <td>North Indian, Chinese, Mughlai</td>\n",
       "      <td>Jaipuria Sunrise Plaza</td>\n",
       "      <td>3.9</td>\n",
       "      <td>14152</td>\n",
       "      <td>11:30am – 4pm, 5pm – 11pm (Mon-Sun)</td>\n",
       "      <td>QUICK BITES</td>\n",
       "      <td>362 votes</td>\n",
       "      <td>test</td>\n",
       "    </tr>\n",
       "    <tr>\n",
       "      <td>16311</td>\n",
       "      <td>NaN</td>\n",
       "      <td>NaN</td>\n",
       "      <td>Continental, Mexican, American</td>\n",
       "      <td>Maharashtra 400013</td>\n",
       "      <td>4.0</td>\n",
       "      <td>9779</td>\n",
       "      <td>5pm – 1:30am (Mon-Sun)</td>\n",
       "      <td>PUB,CASUAL DINING</td>\n",
       "      <td>1142 votes</td>\n",
       "      <td>test</td>\n",
       "    </tr>\n",
       "    <tr>\n",
       "      <td>16857</td>\n",
       "      <td>NaN</td>\n",
       "      <td>NaN</td>\n",
       "      <td>Lebanese</td>\n",
       "      <td>Chennai</td>\n",
       "      <td>3.7</td>\n",
       "      <td>12015</td>\n",
       "      <td>4pm – 11pm (Mon-Sun)</td>\n",
       "      <td>QUICK BITES</td>\n",
       "      <td>124 votes</td>\n",
       "      <td>test</td>\n",
       "    </tr>\n",
       "  </tbody>\n",
       "</table>\n",
       "</div>"
      ],
      "text/plain": [
       "      CITY    COST                                           CUISINES  \\\n",
       "246    NaN   300.0                                            Biryani   \n",
       "817    NaN  1200.0  Thai, Chinese, Continental, North Indian, Italian   \n",
       "5149   NaN   400.0                     Beverages, Ice Cream, Desserts   \n",
       "5297   NaN  1000.0                                        Continental   \n",
       "6397   NaN   950.0  Cafe, American, Asian, Bakery, Biryani, Chines...   \n",
       "6451   NaN   400.0                                             Bakery   \n",
       "8456   NaN   150.0                               Fast Food, Beverages   \n",
       "8735   NaN   400.0                                    Chinese, Burger   \n",
       "9121   NaN  1500.0  Finger Food, American, Continental, Burger, Pizza   \n",
       "9268   NaN   200.0                                           Lebanese   \n",
       "10200  NaN   300.0  North Indian, Chinese, Sandwich, Street Food, ...   \n",
       "10704  NaN   650.0                             Continental, Fast Food   \n",
       "11491  NaN   500.0                     Arabian, North Indian, Chinese   \n",
       "12314  NaN   650.0                              North Indian, Bengali   \n",
       "12447  NaN   350.0            North Indian, Chinese, Mughlai, Seafood   \n",
       "12859  NaN     NaN                              North Indian, Chinese   \n",
       "13400  NaN     NaN                     Arabian, North Indian, Chinese   \n",
       "14044  NaN     NaN                     North Indian, Chinese, Mughlai   \n",
       "16311  NaN     NaN                     Continental, Mexican, American   \n",
       "16857  NaN     NaN                                           Lebanese   \n",
       "\n",
       "                                                LOCALITY RATING  \\\n",
       "246                                   Palarivattom Kochi    3.4   \n",
       "817                               shop 7 shikrupa socity    4.1   \n",
       "5149                                         Navi Mumbai    3.8   \n",
       "5297                                               Kochi    3.4   \n",
       "6397                                             Alibaug    4.2   \n",
       "6451                                             Chennai    3.5   \n",
       "8456                                           Mathikere    3.7   \n",
       "8735                                             Chennai    3.8   \n",
       "9121                                           Bangalore    3.9   \n",
       "9268                                               Kochi    3.4   \n",
       "10200                                             Kalyan    3.5   \n",
       "10704                                            Chennai    4.0   \n",
       "11491                                            Chennai    3.0   \n",
       "12314  Opposite to corporation bank and LIC office ba...    4.3   \n",
       "12447                                          Hyderabad    3.1   \n",
       "12859                                            Chennai    3.5   \n",
       "13400                                            Chennai    3.4   \n",
       "14044                             Jaipuria Sunrise Plaza    3.9   \n",
       "16311                                 Maharashtra 400013    4.0   \n",
       "16857                                            Chennai    3.7   \n",
       "\n",
       "       RESTAURANT_ID                                             TIME  \\\n",
       "246            14502                          12noon – 11pm (Mon-Sun)   \n",
       "817             1042                    12noon – 12midnight (Mon-Sun)   \n",
       "5149            7264                            11am – 11pm (Mon-Sun)   \n",
       "5297            1030                               24 Hours (Mon-Sun)   \n",
       "6397            7334                           9am – 9:30pm (Mon-Sun)   \n",
       "6451            2595                            10am – 10pm (Mon-Sun)   \n",
       "8456           12367                          9:30am – 11pm (Mon-Sun)   \n",
       "8735           15526                            11am – 11pm (Mon-Sun)   \n",
       "9121            9800                             11am – 1am (Mon-Sun)   \n",
       "9268           12021                            11am – 11pm (Mon-Sun)   \n",
       "10200           1433  7:30am – 12midnight (Mon, Tue, Wed, Thu, Sat...   \n",
       "10704           5552                    12noon – 12midnight (Mon-Sun)   \n",
       "11491            954                            11am – 11pm (Mon-Sun)   \n",
       "12314          11724              11am – 3:30pm, 7pm – 11pm (Mon-Sun)   \n",
       "12447           7314                   12:30pm – 12midnight (Mon-Sun)   \n",
       "12859          10663                            11am – 11pm (Mon-Sun)   \n",
       "13400            451            12noon – 3pm, 5:30pm – 11pm (Mon-Sun)   \n",
       "14044          14152              11:30am – 4pm, 5pm – 11pm (Mon-Sun)   \n",
       "16311           9779                           5pm – 1:30am (Mon-Sun)   \n",
       "16857          12015                             4pm – 11pm (Mon-Sun)   \n",
       "\n",
       "                              TITLE       VOTES   type  \n",
       "246                     QUICK BITES    82 votes  train  \n",
       "817                   CASUAL DINING   486 votes  train  \n",
       "5149   BEVERAGE SHOP,DESSERT PARLOR   163 votes  train  \n",
       "5297                  CASUAL DINING    19 votes  train  \n",
       "6397                           CAFÉ   253 votes  train  \n",
       "6451                         BAKERY    10 votes  train  \n",
       "8456                    QUICK BITES    28 votes  train  \n",
       "8735                  CASUAL DINING   284 votes  train  \n",
       "9121              PUB,CASUAL DINING   557 votes  train  \n",
       "9268                    QUICK BITES    14 votes  train  \n",
       "10200                   QUICK BITES    40 votes  train  \n",
       "10704                 CASUAL DINING    68 votes  train  \n",
       "11491                   QUICK BITES   109 votes  train  \n",
       "12314                 CASUAL DINING   775 votes  train  \n",
       "12447                   QUICK BITES    44 votes  train  \n",
       "12859                   QUICK BITES   161 votes   test  \n",
       "13400                   QUICK BITES    69 votes   test  \n",
       "14044                   QUICK BITES   362 votes   test  \n",
       "16311             PUB,CASUAL DINING  1142 votes   test  \n",
       "16857                   QUICK BITES   124 votes   test  "
      ]
     },
     "execution_count": 65,
     "metadata": {},
     "output_type": "execute_result"
    }
   ],
   "source": [
    "df_hotel.loc[df_hotel[\"CITY\"].isnull()]"
   ]
  },
  {
   "cell_type": "markdown",
   "metadata": {},
   "source": [
    "We can see that we have some CITY names present in LOCALITY, we need to correct it "
   ]
  },
  {
   "cell_type": "code",
   "execution_count": 66,
   "metadata": {},
   "outputs": [],
   "source": [
    "#Collecting CITY unique list \n",
    "city_list=df_hotel[\"CITY\"].drop_duplicates().to_list()"
   ]
  },
  {
   "cell_type": "code",
   "execution_count": 67,
   "metadata": {},
   "outputs": [],
   "source": [
    "null_city=df_hotel.loc[df_hotel[\"CITY\"].isnull()].index"
   ]
  },
  {
   "cell_type": "code",
   "execution_count": 68,
   "metadata": {},
   "outputs": [],
   "source": [
    "#Copying CITY name from LOCALITY\n",
    "for index in null_city:\n",
    "    for city in city_list:\n",
    "        if city in df_hotel[\"LOCALITY\"].iloc[index].split():\n",
    "            df_hotel[\"CITY\"].iloc[index]=city"
   ]
  },
  {
   "cell_type": "code",
   "execution_count": 69,
   "metadata": {},
   "outputs": [
    {
     "data": {
      "text/plain": [
       "CITY                5\n",
       "COST             4231\n",
       "CUISINES            0\n",
       "LOCALITY            1\n",
       "RATING              4\n",
       "RESTAURANT_ID       0\n",
       "TIME                0\n",
       "TITLE               0\n",
       "VOTES            1606\n",
       "type                0\n",
       "dtype: int64"
      ]
     },
     "execution_count": 69,
     "metadata": {},
     "output_type": "execute_result"
    }
   ],
   "source": [
    "df_hotel.isnull().sum()"
   ]
  },
  {
   "cell_type": "code",
   "execution_count": 70,
   "metadata": {},
   "outputs": [],
   "source": [
    "# Filling/Replacing these values with \"missing\"\n",
    "df_hotel[\"CITY\"].fillna(\"missing\",inplace=True)\n",
    "df_hotel[\"LOCALITY\"].fillna(\"missing\",inplace=True)"
   ]
  },
  {
   "cell_type": "code",
   "execution_count": 71,
   "metadata": {},
   "outputs": [
    {
     "data": {
      "text/plain": [
       "CITY                0\n",
       "COST             4231\n",
       "CUISINES            0\n",
       "LOCALITY            0\n",
       "RATING              4\n",
       "RESTAURANT_ID       0\n",
       "TIME                0\n",
       "TITLE               0\n",
       "VOTES            1606\n",
       "type                0\n",
       "dtype: int64"
      ]
     },
     "execution_count": 71,
     "metadata": {},
     "output_type": "execute_result"
    }
   ],
   "source": [
    "df_hotel.isnull().sum()"
   ]
  },
  {
   "cell_type": "code",
   "execution_count": 72,
   "metadata": {},
   "outputs": [
    {
     "data": {
      "text/html": [
       "<div>\n",
       "<style scoped>\n",
       "    .dataframe tbody tr th:only-of-type {\n",
       "        vertical-align: middle;\n",
       "    }\n",
       "\n",
       "    .dataframe tbody tr th {\n",
       "        vertical-align: top;\n",
       "    }\n",
       "\n",
       "    .dataframe thead th {\n",
       "        text-align: right;\n",
       "    }\n",
       "</style>\n",
       "<table border=\"1\" class=\"dataframe\">\n",
       "  <thead>\n",
       "    <tr style=\"text-align: right;\">\n",
       "      <th></th>\n",
       "      <th>CITY</th>\n",
       "      <th>COST</th>\n",
       "      <th>CUISINES</th>\n",
       "      <th>LOCALITY</th>\n",
       "      <th>RATING</th>\n",
       "      <th>RESTAURANT_ID</th>\n",
       "      <th>TIME</th>\n",
       "      <th>TITLE</th>\n",
       "      <th>VOTES</th>\n",
       "      <th>type</th>\n",
       "    </tr>\n",
       "  </thead>\n",
       "  <tbody>\n",
       "    <tr>\n",
       "      <td>13</td>\n",
       "      <td>Kochi</td>\n",
       "      <td>400.0</td>\n",
       "      <td>South Indian</td>\n",
       "      <td>Edappally</td>\n",
       "      <td>-</td>\n",
       "      <td>4319</td>\n",
       "      <td>11am – 11:30pm (Mon-Sun)</td>\n",
       "      <td>CASUAL DINING</td>\n",
       "      <td>NaN</td>\n",
       "      <td>train</td>\n",
       "    </tr>\n",
       "    <tr>\n",
       "      <td>62</td>\n",
       "      <td>Kochi</td>\n",
       "      <td>200.0</td>\n",
       "      <td>North Indian, Beverages</td>\n",
       "      <td>Kalamassery</td>\n",
       "      <td>NEW</td>\n",
       "      <td>7841</td>\n",
       "      <td>11am – 11pm (Mon-Sun)</td>\n",
       "      <td>QUICK BITES</td>\n",
       "      <td>NaN</td>\n",
       "      <td>train</td>\n",
       "    </tr>\n",
       "    <tr>\n",
       "      <td>69</td>\n",
       "      <td>New Delhi</td>\n",
       "      <td>200.0</td>\n",
       "      <td>Pizza, Fast Food</td>\n",
       "      <td>Kalkaji</td>\n",
       "      <td>NEW</td>\n",
       "      <td>11096</td>\n",
       "      <td>11am – 11pm (Mon-Sun)</td>\n",
       "      <td>None</td>\n",
       "      <td>NaN</td>\n",
       "      <td>train</td>\n",
       "    </tr>\n",
       "    <tr>\n",
       "      <td>85</td>\n",
       "      <td>Bangalore</td>\n",
       "      <td>300.0</td>\n",
       "      <td>North Indian, South Indian</td>\n",
       "      <td>Vijay Nagar</td>\n",
       "      <td>-</td>\n",
       "      <td>12657</td>\n",
       "      <td>Closed (Mon),7:30am – 10:30pm (Tue-Sun)</td>\n",
       "      <td>QUICK BITES</td>\n",
       "      <td>NaN</td>\n",
       "      <td>train</td>\n",
       "    </tr>\n",
       "    <tr>\n",
       "      <td>111</td>\n",
       "      <td>Mumbai</td>\n",
       "      <td>800.0</td>\n",
       "      <td>Gujarati, Rajasthani, North Indian</td>\n",
       "      <td>Borivali West</td>\n",
       "      <td>NEW</td>\n",
       "      <td>7095</td>\n",
       "      <td>11:30am – 3:30pm, 7pm – 11pm (Mon-Sun)</td>\n",
       "      <td>CASUAL DINING</td>\n",
       "      <td>NaN</td>\n",
       "      <td>train</td>\n",
       "    </tr>\n",
       "    <tr>\n",
       "      <td>...</td>\n",
       "      <td>...</td>\n",
       "      <td>...</td>\n",
       "      <td>...</td>\n",
       "      <td>...</td>\n",
       "      <td>...</td>\n",
       "      <td>...</td>\n",
       "      <td>...</td>\n",
       "      <td>...</td>\n",
       "      <td>...</td>\n",
       "      <td>...</td>\n",
       "    </tr>\n",
       "    <tr>\n",
       "      <td>16873</td>\n",
       "      <td>Noida</td>\n",
       "      <td>NaN</td>\n",
       "      <td>Cafe, North Indian</td>\n",
       "      <td>Sector 63</td>\n",
       "      <td>NEW</td>\n",
       "      <td>7007</td>\n",
       "      <td>11am – 11pm (Mon-Sun)</td>\n",
       "      <td>CAFÉ</td>\n",
       "      <td>NaN</td>\n",
       "      <td>test</td>\n",
       "    </tr>\n",
       "    <tr>\n",
       "      <td>16875</td>\n",
       "      <td>New Delhi</td>\n",
       "      <td>NaN</td>\n",
       "      <td>Fast Food</td>\n",
       "      <td>Shalimar Bagh</td>\n",
       "      <td>NEW</td>\n",
       "      <td>6387</td>\n",
       "      <td>12:30pm – 10:30pm (Mon-Sun)</td>\n",
       "      <td>QUICK BITES</td>\n",
       "      <td>NaN</td>\n",
       "      <td>test</td>\n",
       "    </tr>\n",
       "    <tr>\n",
       "      <td>16888</td>\n",
       "      <td>Bangalore</td>\n",
       "      <td>NaN</td>\n",
       "      <td>Continental</td>\n",
       "      <td>Indiranagar</td>\n",
       "      <td>NEW</td>\n",
       "      <td>13381</td>\n",
       "      <td>11am – 12midnight (Mon-Sun)</td>\n",
       "      <td>QUICK BITES</td>\n",
       "      <td>NaN</td>\n",
       "      <td>test</td>\n",
       "    </tr>\n",
       "    <tr>\n",
       "      <td>16913</td>\n",
       "      <td>Mumbai</td>\n",
       "      <td>NaN</td>\n",
       "      <td>Sindhi, Street Food</td>\n",
       "      <td>Lower Parel</td>\n",
       "      <td>NEW</td>\n",
       "      <td>6887</td>\n",
       "      <td>11:30am – 4pm, 7pm – 11:30pm (Mon-Sun)</td>\n",
       "      <td>CASUAL DINING</td>\n",
       "      <td>NaN</td>\n",
       "      <td>test</td>\n",
       "    </tr>\n",
       "    <tr>\n",
       "      <td>16919</td>\n",
       "      <td>Kochi</td>\n",
       "      <td>NaN</td>\n",
       "      <td>Rolls, Beverages</td>\n",
       "      <td>Kochi</td>\n",
       "      <td>-</td>\n",
       "      <td>6485</td>\n",
       "      <td>11am – 11:30pm (Mon, Tue, Wed, Thu, Sat, Sun),...</td>\n",
       "      <td>QUICK BITES</td>\n",
       "      <td>NaN</td>\n",
       "      <td>test</td>\n",
       "    </tr>\n",
       "  </tbody>\n",
       "</table>\n",
       "<p>1606 rows × 10 columns</p>\n",
       "</div>"
      ],
      "text/plain": [
       "            CITY   COST                            CUISINES       LOCALITY  \\\n",
       "13         Kochi  400.0                        South Indian      Edappally   \n",
       "62         Kochi  200.0             North Indian, Beverages    Kalamassery   \n",
       "69     New Delhi  200.0                    Pizza, Fast Food        Kalkaji   \n",
       "85     Bangalore  300.0          North Indian, South Indian    Vijay Nagar   \n",
       "111       Mumbai  800.0  Gujarati, Rajasthani, North Indian  Borivali West   \n",
       "...          ...    ...                                 ...            ...   \n",
       "16873      Noida    NaN                  Cafe, North Indian      Sector 63   \n",
       "16875  New Delhi    NaN                           Fast Food  Shalimar Bagh   \n",
       "16888  Bangalore    NaN                         Continental    Indiranagar   \n",
       "16913     Mumbai    NaN                 Sindhi, Street Food    Lower Parel   \n",
       "16919      Kochi    NaN                    Rolls, Beverages          Kochi   \n",
       "\n",
       "      RATING  RESTAURANT_ID  \\\n",
       "13         -           4319   \n",
       "62       NEW           7841   \n",
       "69       NEW          11096   \n",
       "85         -          12657   \n",
       "111      NEW           7095   \n",
       "...      ...            ...   \n",
       "16873    NEW           7007   \n",
       "16875    NEW           6387   \n",
       "16888    NEW          13381   \n",
       "16913    NEW           6887   \n",
       "16919      -           6485   \n",
       "\n",
       "                                                    TIME          TITLE VOTES  \\\n",
       "13                              11am – 11:30pm (Mon-Sun)  CASUAL DINING   NaN   \n",
       "62                                 11am – 11pm (Mon-Sun)    QUICK BITES   NaN   \n",
       "69                                 11am – 11pm (Mon-Sun)           None   NaN   \n",
       "85               Closed (Mon),7:30am – 10:30pm (Tue-Sun)    QUICK BITES   NaN   \n",
       "111               11:30am – 3:30pm, 7pm – 11pm (Mon-Sun)  CASUAL DINING   NaN   \n",
       "...                                                  ...            ...   ...   \n",
       "16873                              11am – 11pm (Mon-Sun)           CAFÉ   NaN   \n",
       "16875                        12:30pm – 10:30pm (Mon-Sun)    QUICK BITES   NaN   \n",
       "16888                        11am – 12midnight (Mon-Sun)    QUICK BITES   NaN   \n",
       "16913             11:30am – 4pm, 7pm – 11:30pm (Mon-Sun)  CASUAL DINING   NaN   \n",
       "16919  11am – 11:30pm (Mon, Tue, Wed, Thu, Sat, Sun),...    QUICK BITES   NaN   \n",
       "\n",
       "        type  \n",
       "13     train  \n",
       "62     train  \n",
       "69     train  \n",
       "85     train  \n",
       "111    train  \n",
       "...      ...  \n",
       "16873   test  \n",
       "16875   test  \n",
       "16888   test  \n",
       "16913   test  \n",
       "16919   test  \n",
       "\n",
       "[1606 rows x 10 columns]"
      ]
     },
     "execution_count": 72,
     "metadata": {},
     "output_type": "execute_result"
    }
   ],
   "source": [
    "# Checking for null values in VOTES\n",
    "df_hotel.loc[df_hotel[\"VOTES\"].isnull()]"
   ]
  },
  {
   "cell_type": "markdown",
   "metadata": {},
   "source": [
    "We can see that we have null values for votes where restaurant is NEW"
   ]
  },
  {
   "cell_type": "code",
   "execution_count": 81,
   "metadata": {},
   "outputs": [],
   "source": [
    "# Filling this Nan values with 0\n",
    "df_hotel[\"VOTES\"].fillna(0,inplace=True)"
   ]
  },
  {
   "cell_type": "code",
   "execution_count": 74,
   "metadata": {},
   "outputs": [
    {
     "data": {
      "text/plain": [
       "CITY                0\n",
       "COST             4231\n",
       "CUISINES            0\n",
       "LOCALITY            0\n",
       "RATING              4\n",
       "RESTAURANT_ID       0\n",
       "TIME                0\n",
       "TITLE               0\n",
       "VOTES               0\n",
       "type                0\n",
       "dtype: int64"
      ]
     },
     "execution_count": 74,
     "metadata": {},
     "output_type": "execute_result"
    }
   ],
   "source": [
    "df_hotel.isnull().sum()"
   ]
  },
  {
   "cell_type": "code",
   "execution_count": 75,
   "metadata": {},
   "outputs": [
    {
     "data": {
      "text/plain": [
       "array(['3.6', '4.2', '3.8', '4.1', '4.0', '4.3', '3.9', '3.3', '3.4', '-',\n",
       "       '4.5', '3.5', '4.4', '2.7', '3.7', '4.7', 'NEW', '3.1', '2.5',\n",
       "       '4.6', '2.8', nan, '3.0', '3.2', '2.6', '2.9', '4.9', '4.8', '2.4',\n",
       "       '2.3', '2.0', '2.1', '2.2'], dtype=object)"
      ]
     },
     "execution_count": 75,
     "metadata": {},
     "output_type": "execute_result"
    }
   ],
   "source": [
    "# Checking for null and unique values in RATING\n",
    "df_hotel[\"RATING\"].unique()"
   ]
  },
  {
   "cell_type": "markdown",
   "metadata": {},
   "source": [
    "We have to remove/replace these NEW,-,nan values"
   ]
  },
  {
   "cell_type": "code",
   "execution_count": 76,
   "metadata": {},
   "outputs": [],
   "source": [
    "df_hotel[\"RATING\"].replace(\"NEW\",0,inplace=True)\n",
    "df_hotel[\"RATING\"].replace(\"-\",0,inplace=True)\n",
    "df_hotel[\"RATING\"].fillna(0,inplace=True)"
   ]
  },
  {
   "cell_type": "code",
   "execution_count": 77,
   "metadata": {},
   "outputs": [
    {
     "data": {
      "text/plain": [
       "CITY                0\n",
       "COST             4231\n",
       "CUISINES            0\n",
       "LOCALITY            0\n",
       "RATING              0\n",
       "RESTAURANT_ID       0\n",
       "TIME                0\n",
       "TITLE               0\n",
       "VOTES               0\n",
       "type                0\n",
       "dtype: int64"
      ]
     },
     "execution_count": 77,
     "metadata": {},
     "output_type": "execute_result"
    }
   ],
   "source": [
    "df_hotel.isnull().sum()"
   ]
  },
  {
   "cell_type": "markdown",
   "metadata": {},
   "source": [
    "Now we have left with only COST values of Test data, which we have to predict"
   ]
  },
  {
   "cell_type": "code",
   "execution_count": 78,
   "metadata": {},
   "outputs": [
    {
     "data": {
      "text/plain": [
       "CITY              object\n",
       "COST             float64\n",
       "CUISINES          object\n",
       "LOCALITY          object\n",
       "RATING            object\n",
       "RESTAURANT_ID      int64\n",
       "TIME              object\n",
       "TITLE             object\n",
       "VOTES             object\n",
       "type              object\n",
       "dtype: object"
      ]
     },
     "execution_count": 78,
     "metadata": {},
     "output_type": "execute_result"
    }
   ],
   "source": [
    "df_hotel.dtypes"
   ]
  },
  {
   "cell_type": "code",
   "execution_count": 79,
   "metadata": {},
   "outputs": [],
   "source": [
    "df_hotel[\"RATING\"]=df_hotel[\"RATING\"].astype(float)"
   ]
  },
  {
   "cell_type": "code",
   "execution_count": 83,
   "metadata": {},
   "outputs": [],
   "source": [
    "#Striping off \" votes\" and changing datatype of VOTES column\n",
    "df_hotel[\"VOTES\"]=df_hotel[\"VOTES\"].str.strip(\"votes\")"
   ]
  },
  {
   "cell_type": "code",
   "execution_count": 84,
   "metadata": {},
   "outputs": [
    {
     "data": {
      "text/plain": [
       "<bound method Series.unique of 0         49 \n",
       "1         30 \n",
       "2        221 \n",
       "3         24 \n",
       "4        165 \n",
       "         ... \n",
       "16916    287 \n",
       "16917    469 \n",
       "16918     53 \n",
       "16919     NaN\n",
       "16920     63 \n",
       "Name: VOTES, Length: 16921, dtype: object>"
      ]
     },
     "execution_count": 84,
     "metadata": {},
     "output_type": "execute_result"
    }
   ],
   "source": [
    "df_hotel[\"VOTES\"].unique"
   ]
  },
  {
   "cell_type": "code",
   "execution_count": 85,
   "metadata": {},
   "outputs": [],
   "source": [
    "df_hotel[\"VOTES\"].fillna(0,inplace=True)"
   ]
  },
  {
   "cell_type": "code",
   "execution_count": 87,
   "metadata": {},
   "outputs": [],
   "source": [
    "df_hotel[\"VOTES\"]=df_hotel[\"VOTES\"].astype(int)"
   ]
  },
  {
   "cell_type": "code",
   "execution_count": 88,
   "metadata": {},
   "outputs": [
    {
     "data": {
      "text/plain": [
       "CITY              object\n",
       "COST             float64\n",
       "CUISINES          object\n",
       "LOCALITY          object\n",
       "RATING           float64\n",
       "RESTAURANT_ID      int64\n",
       "TIME              object\n",
       "TITLE             object\n",
       "VOTES              int32\n",
       "type              object\n",
       "dtype: object"
      ]
     },
     "execution_count": 88,
     "metadata": {},
     "output_type": "execute_result"
    }
   ],
   "source": [
    "df_hotel.dtypes"
   ]
  },
  {
   "cell_type": "code",
   "execution_count": 89,
   "metadata": {},
   "outputs": [],
   "source": [
    "#Dropping Unnessary datas \n",
    "df_hotel.drop(columns=[\"RESTAURANT_ID\",\"TIME\"],inplace=True)"
   ]
  },
  {
   "cell_type": "code",
   "execution_count": 90,
   "metadata": {},
   "outputs": [
    {
     "data": {
      "text/html": [
       "<div>\n",
       "<style scoped>\n",
       "    .dataframe tbody tr th:only-of-type {\n",
       "        vertical-align: middle;\n",
       "    }\n",
       "\n",
       "    .dataframe tbody tr th {\n",
       "        vertical-align: top;\n",
       "    }\n",
       "\n",
       "    .dataframe thead th {\n",
       "        text-align: right;\n",
       "    }\n",
       "</style>\n",
       "<table border=\"1\" class=\"dataframe\">\n",
       "  <thead>\n",
       "    <tr style=\"text-align: right;\">\n",
       "      <th></th>\n",
       "      <th>CITY</th>\n",
       "      <th>COST</th>\n",
       "      <th>CUISINES</th>\n",
       "      <th>LOCALITY</th>\n",
       "      <th>RATING</th>\n",
       "      <th>TITLE</th>\n",
       "      <th>VOTES</th>\n",
       "      <th>type</th>\n",
       "    </tr>\n",
       "  </thead>\n",
       "  <tbody>\n",
       "    <tr>\n",
       "      <td>0</td>\n",
       "      <td>Thane</td>\n",
       "      <td>1200.0</td>\n",
       "      <td>Malwani, Goan, North Indian</td>\n",
       "      <td>Dombivali East</td>\n",
       "      <td>3.6</td>\n",
       "      <td>CASUAL DINING</td>\n",
       "      <td>49</td>\n",
       "      <td>train</td>\n",
       "    </tr>\n",
       "    <tr>\n",
       "      <td>1</td>\n",
       "      <td>Chennai</td>\n",
       "      <td>1500.0</td>\n",
       "      <td>Asian, Modern Indian, Japanese</td>\n",
       "      <td>Ramapuram</td>\n",
       "      <td>4.2</td>\n",
       "      <td>CASUAL DINING,BAR</td>\n",
       "      <td>30</td>\n",
       "      <td>train</td>\n",
       "    </tr>\n",
       "    <tr>\n",
       "      <td>2</td>\n",
       "      <td>Chennai</td>\n",
       "      <td>800.0</td>\n",
       "      <td>North Indian, Chinese, Biryani, Hyderabadi</td>\n",
       "      <td>Saligramam</td>\n",
       "      <td>3.8</td>\n",
       "      <td>CASUAL DINING</td>\n",
       "      <td>221</td>\n",
       "      <td>train</td>\n",
       "    </tr>\n",
       "    <tr>\n",
       "      <td>3</td>\n",
       "      <td>Mumbai</td>\n",
       "      <td>800.0</td>\n",
       "      <td>Tibetan, Chinese</td>\n",
       "      <td>Bandra West</td>\n",
       "      <td>4.1</td>\n",
       "      <td>QUICK BITES</td>\n",
       "      <td>24</td>\n",
       "      <td>train</td>\n",
       "    </tr>\n",
       "    <tr>\n",
       "      <td>4</td>\n",
       "      <td>Mumbai</td>\n",
       "      <td>300.0</td>\n",
       "      <td>Desserts</td>\n",
       "      <td>Lower Parel</td>\n",
       "      <td>3.8</td>\n",
       "      <td>DESSERT PARLOR</td>\n",
       "      <td>165</td>\n",
       "      <td>train</td>\n",
       "    </tr>\n",
       "  </tbody>\n",
       "</table>\n",
       "</div>"
      ],
      "text/plain": [
       "      CITY    COST                                    CUISINES  \\\n",
       "0    Thane  1200.0                 Malwani, Goan, North Indian   \n",
       "1  Chennai  1500.0              Asian, Modern Indian, Japanese   \n",
       "2  Chennai   800.0  North Indian, Chinese, Biryani, Hyderabadi   \n",
       "3   Mumbai   800.0                            Tibetan, Chinese   \n",
       "4   Mumbai   300.0                                    Desserts   \n",
       "\n",
       "         LOCALITY  RATING              TITLE  VOTES   type  \n",
       "0  Dombivali East     3.6      CASUAL DINING     49  train  \n",
       "1       Ramapuram     4.2  CASUAL DINING,BAR     30  train  \n",
       "2      Saligramam     3.8      CASUAL DINING    221  train  \n",
       "3     Bandra West     4.1        QUICK BITES     24  train  \n",
       "4     Lower Parel     3.8     DESSERT PARLOR    165  train  "
      ]
     },
     "execution_count": 90,
     "metadata": {},
     "output_type": "execute_result"
    }
   ],
   "source": [
    "df_hotel.head()"
   ]
  },
  {
   "cell_type": "markdown",
   "metadata": {},
   "source": [
    "We have now CUISINES column which have multiple information, we need to separte these"
   ]
  },
  {
   "cell_type": "code",
   "execution_count": 92,
   "metadata": {},
   "outputs": [
    {
     "name": "stdout",
     "output_type": "stream",
     "text": [
      "Maximum no of cuisines in the Train dataset is 8\n",
      "\n",
      "And cuisines are --> Continental, American, Asian, North Indian, Chinese, Pizza, Biryani,\n",
      "\n",
      "\n",
      "Minimum no of cuisines in the in the Train dataset is 1\n",
      "\n",
      "And the cuisines is/are --> Desserts\n",
      "\n",
      "\n"
     ]
    }
   ],
   "source": [
    "# Checking the Maximum and Minimum number of CUISINES\n",
    "cui = df_hotel.CUISINES.apply(lambda x: len(x.split(',')))\n",
    "print(\"Maximum no of cuisines in the Train dataset is {}\\n\".format(cui.max()))\n",
    "print(\"And cuisines are --> {}\\n\\n\".format(df_hotel.CUISINES[cui.idxmax()]))\n",
    "print(\"Minimum no of cuisines in the in the Train dataset is {}\\n\".format(cui.min()))\n",
    "print(\"And the cuisines is/are --> {}\\n\\n\".format(df_hotel.CUISINES[cui.idxmin()]))"
   ]
  },
  {
   "cell_type": "code",
   "execution_count": 94,
   "metadata": {},
   "outputs": [],
   "source": [
    "#Assigning new columns to each type of cuisines\n",
    "df_hotel['cui_1'] = df_hotel['CUISINES'].str.split(',').str[0]\n",
    "df_hotel['cui_2'] = df_hotel['CUISINES'].str.split(',').str[1]\n",
    "df_hotel['cui_3'] = df_hotel['CUISINES'].str.split(',').str[2]\n",
    "df_hotel['cui_4'] = df_hotel['CUISINES'].str.split(',').str[3]\n",
    "df_hotel['cui_5'] = df_hotel['CUISINES'].str.split(',').str[4]\n",
    "df_hotel['cui_6'] = df_hotel['CUISINES'].str.split(',').str[5]\n",
    "df_hotel['cui_7'] = df_hotel['CUISINES'].str.split(',').str[6]\n",
    "df_hotel['cui_8'] = df_hotel['CUISINES'].str.split(',').str[7]"
   ]
  },
  {
   "cell_type": "code",
   "execution_count": 95,
   "metadata": {},
   "outputs": [],
   "source": [
    "df_hotel.drop(columns=[\"CUISINES\"],inplace=True)"
   ]
  },
  {
   "cell_type": "code",
   "execution_count": 96,
   "metadata": {},
   "outputs": [
    {
     "data": {
      "text/html": [
       "<div>\n",
       "<style scoped>\n",
       "    .dataframe tbody tr th:only-of-type {\n",
       "        vertical-align: middle;\n",
       "    }\n",
       "\n",
       "    .dataframe tbody tr th {\n",
       "        vertical-align: top;\n",
       "    }\n",
       "\n",
       "    .dataframe thead th {\n",
       "        text-align: right;\n",
       "    }\n",
       "</style>\n",
       "<table border=\"1\" class=\"dataframe\">\n",
       "  <thead>\n",
       "    <tr style=\"text-align: right;\">\n",
       "      <th></th>\n",
       "      <th>CITY</th>\n",
       "      <th>COST</th>\n",
       "      <th>LOCALITY</th>\n",
       "      <th>RATING</th>\n",
       "      <th>TITLE</th>\n",
       "      <th>VOTES</th>\n",
       "      <th>type</th>\n",
       "      <th>cui_1</th>\n",
       "      <th>cui_2</th>\n",
       "      <th>cui_3</th>\n",
       "      <th>cui_4</th>\n",
       "      <th>cui_5</th>\n",
       "      <th>cui_6</th>\n",
       "      <th>cui_7</th>\n",
       "      <th>cui_8</th>\n",
       "    </tr>\n",
       "  </thead>\n",
       "  <tbody>\n",
       "    <tr>\n",
       "      <td>0</td>\n",
       "      <td>Thane</td>\n",
       "      <td>1200.0</td>\n",
       "      <td>Dombivali East</td>\n",
       "      <td>3.6</td>\n",
       "      <td>CASUAL DINING</td>\n",
       "      <td>49</td>\n",
       "      <td>train</td>\n",
       "      <td>Malwani</td>\n",
       "      <td>Goan</td>\n",
       "      <td>North Indian</td>\n",
       "      <td>NaN</td>\n",
       "      <td>NaN</td>\n",
       "      <td>NaN</td>\n",
       "      <td>NaN</td>\n",
       "      <td>NaN</td>\n",
       "    </tr>\n",
       "    <tr>\n",
       "      <td>1</td>\n",
       "      <td>Chennai</td>\n",
       "      <td>1500.0</td>\n",
       "      <td>Ramapuram</td>\n",
       "      <td>4.2</td>\n",
       "      <td>CASUAL DINING,BAR</td>\n",
       "      <td>30</td>\n",
       "      <td>train</td>\n",
       "      <td>Asian</td>\n",
       "      <td>Modern Indian</td>\n",
       "      <td>Japanese</td>\n",
       "      <td>NaN</td>\n",
       "      <td>NaN</td>\n",
       "      <td>NaN</td>\n",
       "      <td>NaN</td>\n",
       "      <td>NaN</td>\n",
       "    </tr>\n",
       "    <tr>\n",
       "      <td>2</td>\n",
       "      <td>Chennai</td>\n",
       "      <td>800.0</td>\n",
       "      <td>Saligramam</td>\n",
       "      <td>3.8</td>\n",
       "      <td>CASUAL DINING</td>\n",
       "      <td>221</td>\n",
       "      <td>train</td>\n",
       "      <td>North Indian</td>\n",
       "      <td>Chinese</td>\n",
       "      <td>Biryani</td>\n",
       "      <td>Hyderabadi</td>\n",
       "      <td>NaN</td>\n",
       "      <td>NaN</td>\n",
       "      <td>NaN</td>\n",
       "      <td>NaN</td>\n",
       "    </tr>\n",
       "    <tr>\n",
       "      <td>3</td>\n",
       "      <td>Mumbai</td>\n",
       "      <td>800.0</td>\n",
       "      <td>Bandra West</td>\n",
       "      <td>4.1</td>\n",
       "      <td>QUICK BITES</td>\n",
       "      <td>24</td>\n",
       "      <td>train</td>\n",
       "      <td>Tibetan</td>\n",
       "      <td>Chinese</td>\n",
       "      <td>NaN</td>\n",
       "      <td>NaN</td>\n",
       "      <td>NaN</td>\n",
       "      <td>NaN</td>\n",
       "      <td>NaN</td>\n",
       "      <td>NaN</td>\n",
       "    </tr>\n",
       "    <tr>\n",
       "      <td>4</td>\n",
       "      <td>Mumbai</td>\n",
       "      <td>300.0</td>\n",
       "      <td>Lower Parel</td>\n",
       "      <td>3.8</td>\n",
       "      <td>DESSERT PARLOR</td>\n",
       "      <td>165</td>\n",
       "      <td>train</td>\n",
       "      <td>Desserts</td>\n",
       "      <td>NaN</td>\n",
       "      <td>NaN</td>\n",
       "      <td>NaN</td>\n",
       "      <td>NaN</td>\n",
       "      <td>NaN</td>\n",
       "      <td>NaN</td>\n",
       "      <td>NaN</td>\n",
       "    </tr>\n",
       "  </tbody>\n",
       "</table>\n",
       "</div>"
      ],
      "text/plain": [
       "      CITY    COST        LOCALITY  RATING              TITLE  VOTES   type  \\\n",
       "0    Thane  1200.0  Dombivali East     3.6      CASUAL DINING     49  train   \n",
       "1  Chennai  1500.0       Ramapuram     4.2  CASUAL DINING,BAR     30  train   \n",
       "2  Chennai   800.0      Saligramam     3.8      CASUAL DINING    221  train   \n",
       "3   Mumbai   800.0     Bandra West     4.1        QUICK BITES     24  train   \n",
       "4   Mumbai   300.0     Lower Parel     3.8     DESSERT PARLOR    165  train   \n",
       "\n",
       "          cui_1           cui_2          cui_3        cui_4 cui_5 cui_6 cui_7  \\\n",
       "0       Malwani            Goan   North Indian          NaN   NaN   NaN   NaN   \n",
       "1         Asian   Modern Indian       Japanese          NaN   NaN   NaN   NaN   \n",
       "2  North Indian         Chinese        Biryani   Hyderabadi   NaN   NaN   NaN   \n",
       "3       Tibetan         Chinese            NaN          NaN   NaN   NaN   NaN   \n",
       "4      Desserts             NaN            NaN          NaN   NaN   NaN   NaN   \n",
       "\n",
       "  cui_8  \n",
       "0   NaN  \n",
       "1   NaN  \n",
       "2   NaN  \n",
       "3   NaN  \n",
       "4   NaN  "
      ]
     },
     "execution_count": 96,
     "metadata": {},
     "output_type": "execute_result"
    }
   ],
   "source": [
    "df_hotel.head()"
   ]
  },
  {
   "cell_type": "markdown",
   "metadata": {},
   "source": [
    "We have now TITLE column which have multiple information, we need to separte these also"
   ]
  },
  {
   "cell_type": "code",
   "execution_count": 97,
   "metadata": {},
   "outputs": [
    {
     "name": "stdout",
     "output_type": "stream",
     "text": [
      "Maximum no of titles in the Train dataset is 2\n",
      "\n",
      "And titles are --> CASUAL DINING,BAR\n",
      "\n",
      "\n",
      "Minimum no of titles in the in the Train dataset is 1\n",
      "\n",
      "And the title is/are --> CASUAL DINING\n",
      "\n",
      "\n"
     ]
    }
   ],
   "source": [
    "# Checking the Maximum and Minimum number of CUISINES\n",
    "cui = df_hotel.TITLE.apply(lambda x: len(x.split(',')))\n",
    "print(\"Maximum no of titles in the Train dataset is {}\\n\".format(cui.max()))\n",
    "print(\"And titles are --> {}\\n\\n\".format(df_hotel.TITLE[cui.idxmax()]))\n",
    "print(\"Minimum no of titles in the in the Train dataset is {}\\n\".format(cui.min()))\n",
    "print(\"And the title is/are --> {}\\n\\n\".format(df_hotel.TITLE[cui.idxmin()]))"
   ]
  },
  {
   "cell_type": "code",
   "execution_count": 98,
   "metadata": {},
   "outputs": [],
   "source": [
    "#Assigning new columns to each type of Titles\n",
    "df_hotel['tit_1'] = df_hotel['TITLE'].str.split(',').str[0]\n",
    "df_hotel['tit_2'] = df_hotel['TITLE'].str.split(',').str[1]"
   ]
  },
  {
   "cell_type": "code",
   "execution_count": 100,
   "metadata": {},
   "outputs": [],
   "source": [
    "df_hotel.drop(columns=[\"TITLE\"],inplace=True)"
   ]
  },
  {
   "cell_type": "code",
   "execution_count": 101,
   "metadata": {},
   "outputs": [
    {
     "data": {
      "text/html": [
       "<div>\n",
       "<style scoped>\n",
       "    .dataframe tbody tr th:only-of-type {\n",
       "        vertical-align: middle;\n",
       "    }\n",
       "\n",
       "    .dataframe tbody tr th {\n",
       "        vertical-align: top;\n",
       "    }\n",
       "\n",
       "    .dataframe thead th {\n",
       "        text-align: right;\n",
       "    }\n",
       "</style>\n",
       "<table border=\"1\" class=\"dataframe\">\n",
       "  <thead>\n",
       "    <tr style=\"text-align: right;\">\n",
       "      <th></th>\n",
       "      <th>CITY</th>\n",
       "      <th>COST</th>\n",
       "      <th>LOCALITY</th>\n",
       "      <th>RATING</th>\n",
       "      <th>VOTES</th>\n",
       "      <th>type</th>\n",
       "      <th>cui_1</th>\n",
       "      <th>cui_2</th>\n",
       "      <th>cui_3</th>\n",
       "      <th>cui_4</th>\n",
       "      <th>cui_5</th>\n",
       "      <th>cui_6</th>\n",
       "      <th>cui_7</th>\n",
       "      <th>cui_8</th>\n",
       "      <th>tit_1</th>\n",
       "      <th>tit_2</th>\n",
       "    </tr>\n",
       "  </thead>\n",
       "  <tbody>\n",
       "    <tr>\n",
       "      <td>0</td>\n",
       "      <td>Thane</td>\n",
       "      <td>1200.0</td>\n",
       "      <td>Dombivali East</td>\n",
       "      <td>3.6</td>\n",
       "      <td>49</td>\n",
       "      <td>train</td>\n",
       "      <td>Malwani</td>\n",
       "      <td>Goan</td>\n",
       "      <td>North Indian</td>\n",
       "      <td>NaN</td>\n",
       "      <td>NaN</td>\n",
       "      <td>NaN</td>\n",
       "      <td>NaN</td>\n",
       "      <td>NaN</td>\n",
       "      <td>CASUAL DINING</td>\n",
       "      <td>NaN</td>\n",
       "    </tr>\n",
       "    <tr>\n",
       "      <td>1</td>\n",
       "      <td>Chennai</td>\n",
       "      <td>1500.0</td>\n",
       "      <td>Ramapuram</td>\n",
       "      <td>4.2</td>\n",
       "      <td>30</td>\n",
       "      <td>train</td>\n",
       "      <td>Asian</td>\n",
       "      <td>Modern Indian</td>\n",
       "      <td>Japanese</td>\n",
       "      <td>NaN</td>\n",
       "      <td>NaN</td>\n",
       "      <td>NaN</td>\n",
       "      <td>NaN</td>\n",
       "      <td>NaN</td>\n",
       "      <td>CASUAL DINING</td>\n",
       "      <td>BAR</td>\n",
       "    </tr>\n",
       "    <tr>\n",
       "      <td>2</td>\n",
       "      <td>Chennai</td>\n",
       "      <td>800.0</td>\n",
       "      <td>Saligramam</td>\n",
       "      <td>3.8</td>\n",
       "      <td>221</td>\n",
       "      <td>train</td>\n",
       "      <td>North Indian</td>\n",
       "      <td>Chinese</td>\n",
       "      <td>Biryani</td>\n",
       "      <td>Hyderabadi</td>\n",
       "      <td>NaN</td>\n",
       "      <td>NaN</td>\n",
       "      <td>NaN</td>\n",
       "      <td>NaN</td>\n",
       "      <td>CASUAL DINING</td>\n",
       "      <td>NaN</td>\n",
       "    </tr>\n",
       "    <tr>\n",
       "      <td>3</td>\n",
       "      <td>Mumbai</td>\n",
       "      <td>800.0</td>\n",
       "      <td>Bandra West</td>\n",
       "      <td>4.1</td>\n",
       "      <td>24</td>\n",
       "      <td>train</td>\n",
       "      <td>Tibetan</td>\n",
       "      <td>Chinese</td>\n",
       "      <td>NaN</td>\n",
       "      <td>NaN</td>\n",
       "      <td>NaN</td>\n",
       "      <td>NaN</td>\n",
       "      <td>NaN</td>\n",
       "      <td>NaN</td>\n",
       "      <td>QUICK BITES</td>\n",
       "      <td>NaN</td>\n",
       "    </tr>\n",
       "    <tr>\n",
       "      <td>4</td>\n",
       "      <td>Mumbai</td>\n",
       "      <td>300.0</td>\n",
       "      <td>Lower Parel</td>\n",
       "      <td>3.8</td>\n",
       "      <td>165</td>\n",
       "      <td>train</td>\n",
       "      <td>Desserts</td>\n",
       "      <td>NaN</td>\n",
       "      <td>NaN</td>\n",
       "      <td>NaN</td>\n",
       "      <td>NaN</td>\n",
       "      <td>NaN</td>\n",
       "      <td>NaN</td>\n",
       "      <td>NaN</td>\n",
       "      <td>DESSERT PARLOR</td>\n",
       "      <td>NaN</td>\n",
       "    </tr>\n",
       "  </tbody>\n",
       "</table>\n",
       "</div>"
      ],
      "text/plain": [
       "      CITY    COST        LOCALITY  RATING  VOTES   type         cui_1  \\\n",
       "0    Thane  1200.0  Dombivali East     3.6     49  train       Malwani   \n",
       "1  Chennai  1500.0       Ramapuram     4.2     30  train         Asian   \n",
       "2  Chennai   800.0      Saligramam     3.8    221  train  North Indian   \n",
       "3   Mumbai   800.0     Bandra West     4.1     24  train       Tibetan   \n",
       "4   Mumbai   300.0     Lower Parel     3.8    165  train      Desserts   \n",
       "\n",
       "            cui_2          cui_3        cui_4 cui_5 cui_6 cui_7 cui_8  \\\n",
       "0            Goan   North Indian          NaN   NaN   NaN   NaN   NaN   \n",
       "1   Modern Indian       Japanese          NaN   NaN   NaN   NaN   NaN   \n",
       "2         Chinese        Biryani   Hyderabadi   NaN   NaN   NaN   NaN   \n",
       "3         Chinese            NaN          NaN   NaN   NaN   NaN   NaN   \n",
       "4             NaN            NaN          NaN   NaN   NaN   NaN   NaN   \n",
       "\n",
       "            tit_1 tit_2  \n",
       "0   CASUAL DINING   NaN  \n",
       "1   CASUAL DINING   BAR  \n",
       "2   CASUAL DINING   NaN  \n",
       "3     QUICK BITES   NaN  \n",
       "4  DESSERT PARLOR   NaN  "
      ]
     },
     "execution_count": 101,
     "metadata": {},
     "output_type": "execute_result"
    }
   ],
   "source": [
    "df_hotel.head()"
   ]
  },
  {
   "cell_type": "code",
   "execution_count": 117,
   "metadata": {},
   "outputs": [],
   "source": [
    "#Replacing null values of cuisins and tital columns to None\n",
    "df_hotel['cui_2'].fillna(\"None\",inplace=True)\n",
    "df_hotel['cui_3'].fillna(\"None\",inplace=True)\n",
    "df_hotel['cui_4'].fillna(\"None\",inplace=True)\n",
    "df_hotel['cui_5'].fillna(\"None\",inplace=True)\n",
    "df_hotel['cui_6'].fillna(\"None\",inplace=True)\n",
    "df_hotel['cui_7'].fillna(\"None\",inplace=True)\n",
    "df_hotel['cui_8'].fillna(\"None\",inplace=True)\n",
    "df_hotel['tit_2'].fillna(\"None\",inplace=True)"
   ]
  },
  {
   "cell_type": "code",
   "execution_count": 118,
   "metadata": {},
   "outputs": [
    {
     "data": {
      "text/plain": [
       "CITY           0\n",
       "COST        4231\n",
       "LOCALITY       0\n",
       "RATING         0\n",
       "VOTES          0\n",
       "type           0\n",
       "cui_1          0\n",
       "cui_2          0\n",
       "cui_3          0\n",
       "cui_4          0\n",
       "cui_5          0\n",
       "cui_6          0\n",
       "cui_7          0\n",
       "cui_8          0\n",
       "tit_1          0\n",
       "tit_2          0\n",
       "dtype: int64"
      ]
     },
     "execution_count": 118,
     "metadata": {},
     "output_type": "execute_result"
    }
   ],
   "source": [
    "df_hotel.isnull().sum()"
   ]
  },
  {
   "cell_type": "markdown",
   "metadata": {},
   "source": [
    "We can see that we have now the needed data to perfom EDA and to train our model for prediction"
   ]
  },
  {
   "cell_type": "markdown",
   "metadata": {},
   "source": [
    "--Performing graphical EDA for the above data to get insight of data--"
   ]
  },
  {
   "cell_type": "code",
   "execution_count": 102,
   "metadata": {},
   "outputs": [],
   "source": [
    "#Importing some more necessary libraries\n",
    "import seaborn as sns\n",
    "import matplotlib.pyplot as plt"
   ]
  },
  {
   "cell_type": "code",
   "execution_count": 107,
   "metadata": {},
   "outputs": [
    {
     "data": {
      "image/png": "[encoded data removed]",
      "text/plain": [
       "<Figure size 1080x720 with 1 Axes>"
      ]
     },
     "metadata": {
      "needs_background": "light"
     },
     "output_type": "display_data"
    }
   ],
   "source": [
    "plt.figure(figsize=(15,10))\n",
    "sns.barplot(x=\"RATING\",y=\"COST\",data=df_hotel)\n",
    "plt.xticks(rotation=90)\n",
    "plt.show()"
   ]
  },
  {
   "cell_type": "markdown",
   "metadata": {},
   "source": [
    "We can see that higher the ratings, higher the prices of food in restaurants/hotels"
   ]
  },
  {
   "cell_type": "code",
   "execution_count": 113,
   "metadata": {},
   "outputs": [
    {
     "data": {
      "image/png": "[encoded data removed]",
      "text/plain": [
       "<Figure size 1080x720 with 1 Axes>"
      ]
     },
     "metadata": {
      "needs_background": "light"
     },
     "output_type": "display_data"
    }
   ],
   "source": [
    "plt.figure(figsize=(15,10))\n",
    "sns.barplot(x=\"tit_1\",y=\"COST\",data=df_hotel)\n",
    "plt.xticks(rotation=90)\n",
    "plt.show()"
   ]
  },
  {
   "cell_type": "code",
   "execution_count": 114,
   "metadata": {},
   "outputs": [
    {
     "data": {
      "image/png": "[encoded data removed]",
      "text/plain": [
       "<Figure size 1080x720 with 1 Axes>"
      ]
     },
     "metadata": {
      "needs_background": "light"
     },
     "output_type": "display_data"
    }
   ],
   "source": [
    "plt.figure(figsize=(15,10))\n",
    "sns.barplot(x=\"tit_2\",y=\"COST\",data=df_hotel)\n",
    "plt.xticks(rotation=90)\n",
    "plt.show()"
   ]
  },
  {
   "cell_type": "markdown",
   "metadata": {},
   "source": [
    "We can see that Restaurant have title \"FINE DINING\" are costliest"
   ]
  },
  {
   "cell_type": "code",
   "execution_count": 119,
   "metadata": {},
   "outputs": [],
   "source": [
    "#Encoding the data using Label Encoder\n",
    "from sklearn.preprocessing import LabelEncoder\n",
    "for col in df_hotel.columns:\n",
    "    if df_hotel[col].dtype==\"object\":\n",
    "        df_hotel[col]=LabelEncoder().fit_transform(df_hotel[col])"
   ]
  },
  {
   "cell_type": "code",
   "execution_count": 122,
   "metadata": {},
   "outputs": [],
   "source": [
    "#Separating train and test data\n",
    "df_train=df_hotel.loc[df_hotel[\"type\"]==1]\n",
    "df_test=df_hotel.loc[df_hotel[\"type\"]==0]"
   ]
  },
  {
   "cell_type": "code",
   "execution_count": 123,
   "metadata": {},
   "outputs": [],
   "source": [
    "#Resetting the index\n",
    "df_test.reset_index(drop=True,inplace=True)"
   ]
  },
  {
   "cell_type": "code",
   "execution_count": 124,
   "metadata": {},
   "outputs": [],
   "source": [
    "#Dropping the type column\n",
    "df_train.drop(columns=[\"type\"],inplace=True)\n",
    "df_test.drop(columns=[\"type\"],inplace=True)"
   ]
  },
  {
   "cell_type": "code",
   "execution_count": 125,
   "metadata": {},
   "outputs": [],
   "source": [
    "#Separating the input and output from train dataset\n",
    "df_x=df_train.drop(columns=[\"COST\"])\n",
    "y=df_train[[\"COST\"]]"
   ]
  },
  {
   "cell_type": "code",
   "execution_count": 126,
   "metadata": {},
   "outputs": [],
   "source": [
    "#Performing scaling\n",
    "from sklearn.preprocessing import StandardScaler\n",
    "sc = StandardScaler()\n",
    "x = sc.fit_transform(df_x)\n",
    "x=pd.DataFrame(x,columns=df_x.columns)"
   ]
  },
  {
   "cell_type": "code",
   "execution_count": 127,
   "metadata": {},
   "outputs": [],
   "source": [
    "#Importing some neccessary libraries \n",
    "from sklearn.metrics import mean_absolute_error\n",
    "from sklearn.metrics import mean_squared_error\n",
    "from sklearn.metrics import r2_score\n",
    "from sklearn.metrics import mean_squared_error\n",
    "from sklearn.model_selection import cross_val_score\n",
    "from sklearn.model_selection import train_test_split"
   ]
  },
  {
   "cell_type": "code",
   "execution_count": 128,
   "metadata": {},
   "outputs": [],
   "source": [
    "#Checking for best random state which give best r2 score for various training techniques used to get best prediction\n",
    "# Defining a function to check for best random state and r2 score.\n",
    "def maxr2_score(tec,x,y):\n",
    "    max_r_score=0\n",
    "    for r_state in range(42,100):\n",
    "        train_x,test_x,train_y,test_y = train_test_split(x,y,random_state = r_state,test_size=0.20)\n",
    "        tec.fit(train_x,train_y)\n",
    "        pred = tec.predict(test_x)\n",
    "        temp=r2_score(test_y,pred)\n",
    "        if temp>max_r_score:\n",
    "            max_r_score=temp\n",
    "            final_r_state=r_state\n",
    "    print(\"max r2 score is : \",max_r_score, 'corresponding to random state: ',final_r_state,)"
   ]
  },
  {
   "cell_type": "code",
   "execution_count": 129,
   "metadata": {},
   "outputs": [],
   "source": [
    "#Importing various methods from libraries\n",
    "from sklearn.linear_model import LinearRegression\n",
    "from sklearn.tree import DecisionTreeRegressor\n",
    "from sklearn.ensemble import RandomForestRegressor\n",
    "from sklearn.ensemble import AdaBoostRegressor\n",
    "from sklearn.ensemble import GradientBoostingRegressor\n",
    "from sklearn.model_selection import GridSearchCV\n",
    "from sklearn.neighbors import KNeighborsRegressor\n",
    "from sklearn import svm\n",
    "from sklearn.svm import SVR\n",
    "import warnings\n",
    "warnings.filterwarnings(\"ignore\")"
   ]
  },
  {
   "cell_type": "code",
   "execution_count": 130,
   "metadata": {},
   "outputs": [],
   "source": [
    "train_x,test_x,train_y,test_y=train_test_split(x, y,test_size=0.20,random_state=42)"
   ]
  },
  {
   "cell_type": "code",
   "execution_count": 131,
   "metadata": {},
   "outputs": [
    {
     "name": "stdout",
     "output_type": "stream",
     "text": [
      "max r2 score is :  0.24994474303473135 corresponding to random state:  67\n"
     ]
    }
   ],
   "source": [
    "LR=LinearRegression()\n",
    "maxr2_score(LR,x,y)"
   ]
  },
  {
   "cell_type": "code",
   "execution_count": 132,
   "metadata": {},
   "outputs": [
    {
     "name": "stdout",
     "output_type": "stream",
     "text": [
      "max r2 score is :  0.4054649388797682 corresponding to random state:  57\n"
     ]
    }
   ],
   "source": [
    "KN=KNeighborsRegressor()\n",
    "maxr2_score(KN,x,y)"
   ]
  },
  {
   "cell_type": "code",
   "execution_count": 133,
   "metadata": {},
   "outputs": [
    {
     "name": "stdout",
     "output_type": "stream",
     "text": [
      "max r2 score is :  0.7370869499667827 corresponding to random state:  46\n"
     ]
    }
   ],
   "source": [
    "RF=RandomForestRegressor()\n",
    "maxr2_score(RF,x,y)"
   ]
  },
  {
   "cell_type": "code",
   "execution_count": 134,
   "metadata": {},
   "outputs": [
    {
     "name": "stdout",
     "output_type": "stream",
     "text": [
      "max r2 score is :  0.29922385810329755 corresponding to random state:  69\n"
     ]
    }
   ],
   "source": [
    "AB=AdaBoostRegressor()\n",
    "maxr2_score(AB,x,y)"
   ]
  },
  {
   "cell_type": "code",
   "execution_count": 135,
   "metadata": {},
   "outputs": [
    {
     "name": "stdout",
     "output_type": "stream",
     "text": [
      "max r2 score is :  0.7371275571626545 corresponding to random state:  91\n"
     ]
    }
   ],
   "source": [
    "GB=GradientBoostingRegressor()\n",
    "maxr2_score(GB,x,y)"
   ]
  },
  {
   "cell_type": "code",
   "execution_count": 139,
   "metadata": {},
   "outputs": [
    {
     "data": {
      "text/plain": [
       "{'n_estimators': 100}"
      ]
     },
     "execution_count": 139,
     "metadata": {},
     "output_type": "execute_result"
    }
   ],
   "source": [
    "#Using Grid search CV for best parameters to improve the r2 score\n",
    "from sklearn.model_selection import GridSearchCV\n",
    "import warnings\n",
    "warnings.filterwarnings(\"ignore\")\n",
    "RF=RandomForestRegressor()\n",
    "parameters = {\"n_estimators\":[10,100,500]}\n",
    "clf = GridSearchCV(RF, parameters, cv=5,scoring=\"r2\")\n",
    "clf.fit(x,y)\n",
    "clf.best_params_"
   ]
  },
  {
   "cell_type": "code",
   "execution_count": 140,
   "metadata": {},
   "outputs": [
    {
     "name": "stdout",
     "output_type": "stream",
     "text": [
      "max r2 score is :  0.7529812692534694 corresponding to random state:  93\n"
     ]
    }
   ],
   "source": [
    "RF=RandomForestRegressor(n_estimators= 100)\n",
    "maxr2_score(RF,x,y)"
   ]
  },
  {
   "cell_type": "code",
   "execution_count": 141,
   "metadata": {},
   "outputs": [
    {
     "data": {
      "text/plain": [
       "{'learning_rate': 0.1, 'max_depth': 5, 'n_estimators': 100}"
      ]
     },
     "execution_count": 141,
     "metadata": {},
     "output_type": "execute_result"
    }
   ],
   "source": [
    "\n",
    "GB=GradientBoostingRegressor()\n",
    "parameters =parameters = {\n",
    "    \"n_estimators\":[5,50,100],\n",
    "    \"max_depth\":[1,3,5],\n",
    "    \"learning_rate\":[0.01,0.1,1]}\n",
    "clf = GridSearchCV(GB,parameters, cv=5)\n",
    "clf.fit(x,y)\n",
    "clf.best_params_"
   ]
  },
  {
   "cell_type": "code",
   "execution_count": 142,
   "metadata": {},
   "outputs": [
    {
     "name": "stdout",
     "output_type": "stream",
     "text": [
      "max r2 score is :  0.7689873447911182 corresponding to random state:  94\n"
     ]
    }
   ],
   "source": [
    "GB=GradientBoostingRegressor(learning_rate=0.1,max_depth=5,n_estimators=100)\n",
    "maxr2_score(GB,x,y)"
   ]
  },
  {
   "cell_type": "markdown",
   "metadata": {},
   "source": [
    "We can see that we have imporved r2 score and maximum is given by Gradient Boosting technuque"
   ]
  },
  {
   "cell_type": "code",
   "execution_count": 150,
   "metadata": {},
   "outputs": [
    {
     "name": "stdout",
     "output_type": "stream",
     "text": [
      "Mean r2 score for regressor:  0.726487932819151\n",
      "standard deviation in r2 score for regressor:  0.04016813707204008\n"
     ]
    }
   ],
   "source": [
    "c_scores=cross_val_score(GB,x,y,cv=5,scoring=\"r2\")\n",
    "print(\"Mean r2 score for regressor: \",c_scores.mean())\n",
    "print(\"standard deviation in r2 score for regressor: \",c_scores.std())"
   ]
  },
  {
   "cell_type": "code",
   "execution_count": 143,
   "metadata": {},
   "outputs": [],
   "source": [
    "#We have to remove the COST(null) column from our test dataset in order to predict the fees using our final model\n",
    "df_test.drop(columns=['COST'],axis=1,inplace=True)"
   ]
  },
  {
   "cell_type": "code",
   "execution_count": 144,
   "metadata": {},
   "outputs": [
    {
     "data": {
      "text/html": [
       "<div>\n",
       "<style scoped>\n",
       "    .dataframe tbody tr th:only-of-type {\n",
       "        vertical-align: middle;\n",
       "    }\n",
       "\n",
       "    .dataframe tbody tr th {\n",
       "        vertical-align: top;\n",
       "    }\n",
       "\n",
       "    .dataframe thead th {\n",
       "        text-align: right;\n",
       "    }\n",
       "</style>\n",
       "<table border=\"1\" class=\"dataframe\">\n",
       "  <thead>\n",
       "    <tr style=\"text-align: right;\">\n",
       "      <th></th>\n",
       "      <th>CITY</th>\n",
       "      <th>LOCALITY</th>\n",
       "      <th>RATING</th>\n",
       "      <th>VOTES</th>\n",
       "      <th>cui_1</th>\n",
       "      <th>cui_2</th>\n",
       "      <th>cui_3</th>\n",
       "      <th>cui_4</th>\n",
       "      <th>cui_5</th>\n",
       "      <th>cui_6</th>\n",
       "      <th>cui_7</th>\n",
       "      <th>cui_8</th>\n",
       "      <th>tit_1</th>\n",
       "      <th>tit_2</th>\n",
       "    </tr>\n",
       "  </thead>\n",
       "  <tbody>\n",
       "    <tr>\n",
       "      <td>0</td>\n",
       "      <td>323</td>\n",
       "      <td>1314</td>\n",
       "      <td>4.3</td>\n",
       "      <td>564</td>\n",
       "      <td>74</td>\n",
       "      <td>23</td>\n",
       "      <td>67</td>\n",
       "      <td>43</td>\n",
       "      <td>83</td>\n",
       "      <td>75</td>\n",
       "      <td>57</td>\n",
       "      <td>22</td>\n",
       "      <td>5</td>\n",
       "      <td>16</td>\n",
       "    </tr>\n",
       "    <tr>\n",
       "      <td>1</td>\n",
       "      <td>277</td>\n",
       "      <td>429</td>\n",
       "      <td>4.2</td>\n",
       "      <td>61</td>\n",
       "      <td>92</td>\n",
       "      <td>28</td>\n",
       "      <td>77</td>\n",
       "      <td>64</td>\n",
       "      <td>83</td>\n",
       "      <td>75</td>\n",
       "      <td>57</td>\n",
       "      <td>22</td>\n",
       "      <td>23</td>\n",
       "      <td>16</td>\n",
       "    </tr>\n",
       "  </tbody>\n",
       "</table>\n",
       "</div>"
      ],
      "text/plain": [
       "   CITY  LOCALITY  RATING  VOTES  cui_1  cui_2  cui_3  cui_4  cui_5  cui_6  \\\n",
       "0   323      1314     4.3    564     74     23     67     43     83     75   \n",
       "1   277       429     4.2     61     92     28     77     64     83     75   \n",
       "\n",
       "   cui_7  cui_8  tit_1  tit_2  \n",
       "0     57     22      5     16  \n",
       "1     57     22     23     16  "
      ]
     },
     "execution_count": 144,
     "metadata": {},
     "output_type": "execute_result"
    }
   ],
   "source": [
    "df_test.head(2)"
   ]
  },
  {
   "cell_type": "code",
   "execution_count": 145,
   "metadata": {},
   "outputs": [],
   "source": [
    "#Saving our final model using Gradient Boosting Regression method\n",
    "train_x,test_x,train_y,test_y = train_test_split(x,y,random_state=94,test_size=0.20)\n",
    "GB.fit(train_x,train_y)\n",
    "pred_food_cost=GB.predict(df_test)"
   ]
  },
  {
   "cell_type": "code",
   "execution_count": 146,
   "metadata": {},
   "outputs": [],
   "source": [
    "pred_food_cost=pd.DataFrame(pred_food_cost,columns=[\"COST\"])"
   ]
  },
  {
   "cell_type": "code",
   "execution_count": 147,
   "metadata": {},
   "outputs": [],
   "source": [
    "#saving our predicted COST column to the system\n",
    "\n",
    "pred_food_cost.to_csv('C:/Users/Arjun Rao/Downloads/predicted_food_cost.csv',index=False)"
   ]
  },
  {
   "cell_type": "markdown",
   "metadata": {},
   "source": [
    "**This is we have saved the prdicted food cost file to the system**"
   ]
  },
  {
   "cell_type": "code",
   "execution_count": null,
   "metadata": {},
   "outputs": [],
   "source": []
  }
 ],
 "metadata": {
  "kernelspec": {
   "display_name": "Python 3",
   "language": "python",
   "name": "python3"
  },
  "language_info": {
   "codemirror_mode": {
    "name": "ipython",
    "version": 3
   },
   "file_extension": ".py",
   "mimetype": "text/x-python",
   "name": "python",
   "nbconvert_exporter": "python",
   "pygments_lexer": "ipython3",
   "version": "3.7.4"
  }
 },
 "nbformat": 4,
 "nbformat_minor": 2
}
