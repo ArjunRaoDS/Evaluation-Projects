{
 "cells": [
  {
   "cell_type": "markdown",
   "metadata": {},
   "source": [
    "#Project17-To perform EDA and predict the fares of flights on the basis of many other factors"
   ]
  },
  {
   "cell_type": "code",
   "execution_count": 37,
   "metadata": {},
   "outputs": [],
   "source": [
    "#Importing some neccessary libraries\n",
    "import pandas as pd\n",
    "import numpy as np\n",
    "import warnings\n",
    "warnings.filterwarnings(\"ignore\")"
   ]
  },
  {
   "cell_type": "code",
   "execution_count": 38,
   "metadata": {},
   "outputs": [],
   "source": [
    "train=pd.read_excel('C:/Users/Arjun Rao/Downloads/flight/Data_Train.xlsx',parse_dates=[\"Date_of_Journey\",\"Dep_Time\",\"Arrival_Time\"])\n",
    "test=pd.read_excel('C:/Users/Arjun Rao/Downloads/flight/Test_set.xlsx',parse_dates=[\"Date_of_Journey\",\"Dep_Time\",\"Arrival_Time\"])\n",
    "train['type']='train'\n",
    "test['type']='test'"
   ]
  },
  {
   "cell_type": "code",
   "execution_count": 39,
   "metadata": {},
   "outputs": [
    {
     "data": {
      "text/html": [
       "<div>\n",
       "<style scoped>\n",
       "    .dataframe tbody tr th:only-of-type {\n",
       "        vertical-align: middle;\n",
       "    }\n",
       "\n",
       "    .dataframe tbody tr th {\n",
       "        vertical-align: top;\n",
       "    }\n",
       "\n",
       "    .dataframe thead th {\n",
       "        text-align: right;\n",
       "    }\n",
       "</style>\n",
       "<table border=\"1\" class=\"dataframe\">\n",
       "  <thead>\n",
       "    <tr style=\"text-align: right;\">\n",
       "      <th></th>\n",
       "      <th>Additional_Info</th>\n",
       "      <th>Airline</th>\n",
       "      <th>Arrival_Time</th>\n",
       "      <th>Date_of_Journey</th>\n",
       "      <th>Dep_Time</th>\n",
       "      <th>Destination</th>\n",
       "      <th>Duration</th>\n",
       "      <th>Price</th>\n",
       "      <th>Route</th>\n",
       "      <th>Source</th>\n",
       "      <th>Total_Stops</th>\n",
       "      <th>type</th>\n",
       "    </tr>\n",
       "  </thead>\n",
       "  <tbody>\n",
       "    <tr>\n",
       "      <td>0</td>\n",
       "      <td>No info</td>\n",
       "      <td>IndiGo</td>\n",
       "      <td>2020-03-22 01:10:00</td>\n",
       "      <td>2019-03-24</td>\n",
       "      <td>2020-04-29 22:20:00</td>\n",
       "      <td>New Delhi</td>\n",
       "      <td>2h 50m</td>\n",
       "      <td>3897.0</td>\n",
       "      <td>BLR → DEL</td>\n",
       "      <td>Banglore</td>\n",
       "      <td>non-stop</td>\n",
       "      <td>train</td>\n",
       "    </tr>\n",
       "    <tr>\n",
       "      <td>1</td>\n",
       "      <td>No info</td>\n",
       "      <td>Air India</td>\n",
       "      <td>2020-04-29 13:15:00</td>\n",
       "      <td>2019-01-05</td>\n",
       "      <td>2020-04-29 05:50:00</td>\n",
       "      <td>Banglore</td>\n",
       "      <td>7h 25m</td>\n",
       "      <td>7662.0</td>\n",
       "      <td>CCU → IXR → BBI → BLR</td>\n",
       "      <td>Kolkata</td>\n",
       "      <td>2 stops</td>\n",
       "      <td>train</td>\n",
       "    </tr>\n",
       "    <tr>\n",
       "      <td>2</td>\n",
       "      <td>No info</td>\n",
       "      <td>Jet Airways</td>\n",
       "      <td>2020-06-10 04:25:00</td>\n",
       "      <td>2019-09-06</td>\n",
       "      <td>2020-04-29 09:25:00</td>\n",
       "      <td>Cochin</td>\n",
       "      <td>19h</td>\n",
       "      <td>13882.0</td>\n",
       "      <td>DEL → LKO → BOM → COK</td>\n",
       "      <td>Delhi</td>\n",
       "      <td>2 stops</td>\n",
       "      <td>train</td>\n",
       "    </tr>\n",
       "    <tr>\n",
       "      <td>3</td>\n",
       "      <td>No info</td>\n",
       "      <td>IndiGo</td>\n",
       "      <td>2020-04-29 23:30:00</td>\n",
       "      <td>2019-12-05</td>\n",
       "      <td>2020-04-29 18:05:00</td>\n",
       "      <td>Banglore</td>\n",
       "      <td>5h 25m</td>\n",
       "      <td>6218.0</td>\n",
       "      <td>CCU → NAG → BLR</td>\n",
       "      <td>Kolkata</td>\n",
       "      <td>1 stop</td>\n",
       "      <td>train</td>\n",
       "    </tr>\n",
       "    <tr>\n",
       "      <td>4</td>\n",
       "      <td>No info</td>\n",
       "      <td>IndiGo</td>\n",
       "      <td>2020-04-29 21:35:00</td>\n",
       "      <td>2019-01-03</td>\n",
       "      <td>2020-04-29 16:50:00</td>\n",
       "      <td>New Delhi</td>\n",
       "      <td>4h 45m</td>\n",
       "      <td>13302.0</td>\n",
       "      <td>BLR → NAG → DEL</td>\n",
       "      <td>Banglore</td>\n",
       "      <td>1 stop</td>\n",
       "      <td>train</td>\n",
       "    </tr>\n",
       "    <tr>\n",
       "      <td>...</td>\n",
       "      <td>...</td>\n",
       "      <td>...</td>\n",
       "      <td>...</td>\n",
       "      <td>...</td>\n",
       "      <td>...</td>\n",
       "      <td>...</td>\n",
       "      <td>...</td>\n",
       "      <td>...</td>\n",
       "      <td>...</td>\n",
       "      <td>...</td>\n",
       "      <td>...</td>\n",
       "      <td>...</td>\n",
       "    </tr>\n",
       "    <tr>\n",
       "      <td>2666</td>\n",
       "      <td>No info</td>\n",
       "      <td>Air India</td>\n",
       "      <td>2020-06-07 20:25:00</td>\n",
       "      <td>2019-06-06</td>\n",
       "      <td>2020-04-29 20:30:00</td>\n",
       "      <td>Banglore</td>\n",
       "      <td>23h 55m</td>\n",
       "      <td>NaN</td>\n",
       "      <td>CCU → DEL → BLR</td>\n",
       "      <td>Kolkata</td>\n",
       "      <td>1 stop</td>\n",
       "      <td>test</td>\n",
       "    </tr>\n",
       "    <tr>\n",
       "      <td>2667</td>\n",
       "      <td>No info</td>\n",
       "      <td>IndiGo</td>\n",
       "      <td>2020-04-29 16:55:00</td>\n",
       "      <td>2019-03-27</td>\n",
       "      <td>2020-04-29 14:20:00</td>\n",
       "      <td>Banglore</td>\n",
       "      <td>2h 35m</td>\n",
       "      <td>NaN</td>\n",
       "      <td>CCU → BLR</td>\n",
       "      <td>Kolkata</td>\n",
       "      <td>non-stop</td>\n",
       "      <td>test</td>\n",
       "    </tr>\n",
       "    <tr>\n",
       "      <td>2668</td>\n",
       "      <td>No info</td>\n",
       "      <td>Jet Airways</td>\n",
       "      <td>2020-03-07 04:25:00</td>\n",
       "      <td>2019-06-03</td>\n",
       "      <td>2020-04-29 21:50:00</td>\n",
       "      <td>Cochin</td>\n",
       "      <td>6h 35m</td>\n",
       "      <td>NaN</td>\n",
       "      <td>DEL → BOM → COK</td>\n",
       "      <td>Delhi</td>\n",
       "      <td>1 stop</td>\n",
       "      <td>test</td>\n",
       "    </tr>\n",
       "    <tr>\n",
       "      <td>2669</td>\n",
       "      <td>No info</td>\n",
       "      <td>Air India</td>\n",
       "      <td>2020-04-29 19:15:00</td>\n",
       "      <td>2019-06-03</td>\n",
       "      <td>2020-04-29 04:00:00</td>\n",
       "      <td>Cochin</td>\n",
       "      <td>15h 15m</td>\n",
       "      <td>NaN</td>\n",
       "      <td>DEL → BOM → COK</td>\n",
       "      <td>Delhi</td>\n",
       "      <td>1 stop</td>\n",
       "      <td>test</td>\n",
       "    </tr>\n",
       "    <tr>\n",
       "      <td>2670</td>\n",
       "      <td>No info</td>\n",
       "      <td>Multiple carriers</td>\n",
       "      <td>2020-04-29 19:15:00</td>\n",
       "      <td>2019-06-15</td>\n",
       "      <td>2020-04-29 04:55:00</td>\n",
       "      <td>Cochin</td>\n",
       "      <td>14h 20m</td>\n",
       "      <td>NaN</td>\n",
       "      <td>DEL → BOM → COK</td>\n",
       "      <td>Delhi</td>\n",
       "      <td>1 stop</td>\n",
       "      <td>test</td>\n",
       "    </tr>\n",
       "  </tbody>\n",
       "</table>\n",
       "<p>13354 rows × 12 columns</p>\n",
       "</div>"
      ],
      "text/plain": [
       "     Additional_Info            Airline        Arrival_Time Date_of_Journey  \\\n",
       "0            No info             IndiGo 2020-03-22 01:10:00      2019-03-24   \n",
       "1            No info          Air India 2020-04-29 13:15:00      2019-01-05   \n",
       "2            No info        Jet Airways 2020-06-10 04:25:00      2019-09-06   \n",
       "3            No info             IndiGo 2020-04-29 23:30:00      2019-12-05   \n",
       "4            No info             IndiGo 2020-04-29 21:35:00      2019-01-03   \n",
       "...              ...                ...                 ...             ...   \n",
       "2666         No info          Air India 2020-06-07 20:25:00      2019-06-06   \n",
       "2667         No info             IndiGo 2020-04-29 16:55:00      2019-03-27   \n",
       "2668         No info        Jet Airways 2020-03-07 04:25:00      2019-06-03   \n",
       "2669         No info          Air India 2020-04-29 19:15:00      2019-06-03   \n",
       "2670         No info  Multiple carriers 2020-04-29 19:15:00      2019-06-15   \n",
       "\n",
       "                Dep_Time Destination Duration    Price                  Route  \\\n",
       "0    2020-04-29 22:20:00   New Delhi   2h 50m   3897.0              BLR → DEL   \n",
       "1    2020-04-29 05:50:00    Banglore   7h 25m   7662.0  CCU → IXR → BBI → BLR   \n",
       "2    2020-04-29 09:25:00      Cochin      19h  13882.0  DEL → LKO → BOM → COK   \n",
       "3    2020-04-29 18:05:00    Banglore   5h 25m   6218.0        CCU → NAG → BLR   \n",
       "4    2020-04-29 16:50:00   New Delhi   4h 45m  13302.0        BLR → NAG → DEL   \n",
       "...                  ...         ...      ...      ...                    ...   \n",
       "2666 2020-04-29 20:30:00    Banglore  23h 55m      NaN        CCU → DEL → BLR   \n",
       "2667 2020-04-29 14:20:00    Banglore   2h 35m      NaN              CCU → BLR   \n",
       "2668 2020-04-29 21:50:00      Cochin   6h 35m      NaN        DEL → BOM → COK   \n",
       "2669 2020-04-29 04:00:00      Cochin  15h 15m      NaN        DEL → BOM → COK   \n",
       "2670 2020-04-29 04:55:00      Cochin  14h 20m      NaN        DEL → BOM → COK   \n",
       "\n",
       "        Source Total_Stops   type  \n",
       "0     Banglore    non-stop  train  \n",
       "1      Kolkata     2 stops  train  \n",
       "2        Delhi     2 stops  train  \n",
       "3      Kolkata      1 stop  train  \n",
       "4     Banglore      1 stop  train  \n",
       "...        ...         ...    ...  \n",
       "2666   Kolkata      1 stop   test  \n",
       "2667   Kolkata    non-stop   test  \n",
       "2668     Delhi      1 stop   test  \n",
       "2669     Delhi      1 stop   test  \n",
       "2670     Delhi      1 stop   test  \n",
       "\n",
       "[13354 rows x 12 columns]"
      ]
     },
     "execution_count": 39,
     "metadata": {},
     "output_type": "execute_result"
    }
   ],
   "source": [
    "df_flight=pd.concat([train,test])\n",
    "df_flight"
   ]
  },
  {
   "cell_type": "code",
   "execution_count": 40,
   "metadata": {},
   "outputs": [
    {
     "data": {
      "text/plain": [
       "((10683, 12), (2671, 11))"
      ]
     },
     "execution_count": 40,
     "metadata": {},
     "output_type": "execute_result"
    }
   ],
   "source": [
    "train.shape, test.shape"
   ]
  },
  {
   "cell_type": "code",
   "execution_count": 41,
   "metadata": {},
   "outputs": [],
   "source": [
    "#Resetting the index inorder to make our data clean and easier to understand\n",
    "df_flight.reset_index(drop=True,inplace=True)"
   ]
  },
  {
   "cell_type": "code",
   "execution_count": 42,
   "metadata": {},
   "outputs": [
    {
     "data": {
      "text/html": [
       "<div>\n",
       "<style scoped>\n",
       "    .dataframe tbody tr th:only-of-type {\n",
       "        vertical-align: middle;\n",
       "    }\n",
       "\n",
       "    .dataframe tbody tr th {\n",
       "        vertical-align: top;\n",
       "    }\n",
       "\n",
       "    .dataframe thead th {\n",
       "        text-align: right;\n",
       "    }\n",
       "</style>\n",
       "<table border=\"1\" class=\"dataframe\">\n",
       "  <thead>\n",
       "    <tr style=\"text-align: right;\">\n",
       "      <th></th>\n",
       "      <th>Additional_Info</th>\n",
       "      <th>Airline</th>\n",
       "      <th>Arrival_Time</th>\n",
       "      <th>Date_of_Journey</th>\n",
       "      <th>Dep_Time</th>\n",
       "      <th>Destination</th>\n",
       "      <th>Duration</th>\n",
       "      <th>Price</th>\n",
       "      <th>Route</th>\n",
       "      <th>Source</th>\n",
       "      <th>Total_Stops</th>\n",
       "      <th>type</th>\n",
       "    </tr>\n",
       "  </thead>\n",
       "  <tbody>\n",
       "    <tr>\n",
       "      <td>13349</td>\n",
       "      <td>No info</td>\n",
       "      <td>Air India</td>\n",
       "      <td>2020-06-07 20:25:00</td>\n",
       "      <td>2019-06-06</td>\n",
       "      <td>2020-04-29 20:30:00</td>\n",
       "      <td>Banglore</td>\n",
       "      <td>23h 55m</td>\n",
       "      <td>NaN</td>\n",
       "      <td>CCU → DEL → BLR</td>\n",
       "      <td>Kolkata</td>\n",
       "      <td>1 stop</td>\n",
       "      <td>test</td>\n",
       "    </tr>\n",
       "    <tr>\n",
       "      <td>13350</td>\n",
       "      <td>No info</td>\n",
       "      <td>IndiGo</td>\n",
       "      <td>2020-04-29 16:55:00</td>\n",
       "      <td>2019-03-27</td>\n",
       "      <td>2020-04-29 14:20:00</td>\n",
       "      <td>Banglore</td>\n",
       "      <td>2h 35m</td>\n",
       "      <td>NaN</td>\n",
       "      <td>CCU → BLR</td>\n",
       "      <td>Kolkata</td>\n",
       "      <td>non-stop</td>\n",
       "      <td>test</td>\n",
       "    </tr>\n",
       "    <tr>\n",
       "      <td>13351</td>\n",
       "      <td>No info</td>\n",
       "      <td>Jet Airways</td>\n",
       "      <td>2020-03-07 04:25:00</td>\n",
       "      <td>2019-06-03</td>\n",
       "      <td>2020-04-29 21:50:00</td>\n",
       "      <td>Cochin</td>\n",
       "      <td>6h 35m</td>\n",
       "      <td>NaN</td>\n",
       "      <td>DEL → BOM → COK</td>\n",
       "      <td>Delhi</td>\n",
       "      <td>1 stop</td>\n",
       "      <td>test</td>\n",
       "    </tr>\n",
       "    <tr>\n",
       "      <td>13352</td>\n",
       "      <td>No info</td>\n",
       "      <td>Air India</td>\n",
       "      <td>2020-04-29 19:15:00</td>\n",
       "      <td>2019-06-03</td>\n",
       "      <td>2020-04-29 04:00:00</td>\n",
       "      <td>Cochin</td>\n",
       "      <td>15h 15m</td>\n",
       "      <td>NaN</td>\n",
       "      <td>DEL → BOM → COK</td>\n",
       "      <td>Delhi</td>\n",
       "      <td>1 stop</td>\n",
       "      <td>test</td>\n",
       "    </tr>\n",
       "    <tr>\n",
       "      <td>13353</td>\n",
       "      <td>No info</td>\n",
       "      <td>Multiple carriers</td>\n",
       "      <td>2020-04-29 19:15:00</td>\n",
       "      <td>2019-06-15</td>\n",
       "      <td>2020-04-29 04:55:00</td>\n",
       "      <td>Cochin</td>\n",
       "      <td>14h 20m</td>\n",
       "      <td>NaN</td>\n",
       "      <td>DEL → BOM → COK</td>\n",
       "      <td>Delhi</td>\n",
       "      <td>1 stop</td>\n",
       "      <td>test</td>\n",
       "    </tr>\n",
       "  </tbody>\n",
       "</table>\n",
       "</div>"
      ],
      "text/plain": [
       "      Additional_Info            Airline        Arrival_Time Date_of_Journey  \\\n",
       "13349         No info          Air India 2020-06-07 20:25:00      2019-06-06   \n",
       "13350         No info             IndiGo 2020-04-29 16:55:00      2019-03-27   \n",
       "13351         No info        Jet Airways 2020-03-07 04:25:00      2019-06-03   \n",
       "13352         No info          Air India 2020-04-29 19:15:00      2019-06-03   \n",
       "13353         No info  Multiple carriers 2020-04-29 19:15:00      2019-06-15   \n",
       "\n",
       "                 Dep_Time Destination Duration  Price            Route  \\\n",
       "13349 2020-04-29 20:30:00    Banglore  23h 55m    NaN  CCU → DEL → BLR   \n",
       "13350 2020-04-29 14:20:00    Banglore   2h 35m    NaN        CCU → BLR   \n",
       "13351 2020-04-29 21:50:00      Cochin   6h 35m    NaN  DEL → BOM → COK   \n",
       "13352 2020-04-29 04:00:00      Cochin  15h 15m    NaN  DEL → BOM → COK   \n",
       "13353 2020-04-29 04:55:00      Cochin  14h 20m    NaN  DEL → BOM → COK   \n",
       "\n",
       "        Source Total_Stops  type  \n",
       "13349  Kolkata      1 stop  test  \n",
       "13350  Kolkata    non-stop  test  \n",
       "13351    Delhi      1 stop  test  \n",
       "13352    Delhi      1 stop  test  \n",
       "13353    Delhi      1 stop  test  "
      ]
     },
     "execution_count": 42,
     "metadata": {},
     "output_type": "execute_result"
    }
   ],
   "source": [
    "df_flight.tail()"
   ]
  },
  {
   "cell_type": "code",
   "execution_count": 43,
   "metadata": {},
   "outputs": [
    {
     "data": {
      "text/plain": [
       "Additional_Info       0\n",
       "Airline               0\n",
       "Arrival_Time          0\n",
       "Date_of_Journey       0\n",
       "Dep_Time              0\n",
       "Destination           0\n",
       "Duration              0\n",
       "Price              2671\n",
       "Route                 1\n",
       "Source                0\n",
       "Total_Stops           1\n",
       "type                  0\n",
       "dtype: int64"
      ]
     },
     "execution_count": 43,
     "metadata": {},
     "output_type": "execute_result"
    }
   ],
   "source": [
    "#Checking for null values\n",
    "df_flight.isnull().sum()"
   ]
  },
  {
   "cell_type": "code",
   "execution_count": 44,
   "metadata": {},
   "outputs": [
    {
     "data": {
      "text/plain": [
       "Additional_Info            object\n",
       "Airline                    object\n",
       "Arrival_Time       datetime64[ns]\n",
       "Date_of_Journey    datetime64[ns]\n",
       "Dep_Time           datetime64[ns]\n",
       "Destination                object\n",
       "Duration                   object\n",
       "Price                     float64\n",
       "Route                      object\n",
       "Source                     object\n",
       "Total_Stops                object\n",
       "type                       object\n",
       "dtype: object"
      ]
     },
     "execution_count": 44,
     "metadata": {},
     "output_type": "execute_result"
    }
   ],
   "source": [
    "#Checking datatypes\n",
    "df_flight.dtypes"
   ]
  },
  {
   "cell_type": "code",
   "execution_count": 45,
   "metadata": {},
   "outputs": [],
   "source": [
    "#Changing hours,minutes format to minutes and hours\n",
    "df_flight['Duration']=  df_flight['Duration'].str.replace(\"h\", '*60').str.replace(' ','+').str.replace('m','*1').apply(eval)\n"
   ]
  },
  {
   "cell_type": "code",
   "execution_count": 47,
   "metadata": {},
   "outputs": [],
   "source": [
    "df_flight['Duration']=df_flight['Duration']/60"
   ]
  },
  {
   "cell_type": "code",
   "execution_count": 50,
   "metadata": {},
   "outputs": [],
   "source": [
    "pd.options.display.float_format = '{:.2f}'.format"
   ]
  },
  {
   "cell_type": "code",
   "execution_count": 53,
   "metadata": {},
   "outputs": [
    {
     "name": "stdout",
     "output_type": "stream",
     "text": [
      "No info                         10493\n",
      "In-flight meal not included      2426\n",
      "No check-in baggage included      396\n",
      "1 Long layover                     20\n",
      "Change airports                     8\n",
      "Business class                      5\n",
      "No Info                             3\n",
      "Red-eye flight                      1\n",
      "2 Long layover                      1\n",
      "1 Short layover                     1\n",
      "Name: Additional_Info, dtype: int64\n",
      "\n",
      "Jet Airways          4754\n",
      "IndiGo               2564\n",
      "Air India            2192\n",
      "Multiple carriers    1559\n",
      "SpiceJet             1026\n",
      "Vistara               613\n",
      "Air Asia              405\n",
      "GoAir                 240\n",
      "Trujet                  1\n",
      "Name: Airline, dtype: int64\n",
      "\n",
      "Cochin       5682\n",
      "Banglore     3581\n",
      "Delhi        1582\n",
      "New Delhi    1170\n",
      "Hyderabad     883\n",
      "Kolkata       456\n",
      "Name: Destination, dtype: int64\n",
      "\n",
      "DEL → BOM → COK                3000\n",
      "BLR → DEL                      1941\n",
      "CCU → BOM → BLR                1232\n",
      "CCU → BLR                       896\n",
      "BOM → HYD                       785\n",
      "                               ... \n",
      "CCU → IXB → DEL → BLR             1\n",
      "BLR → HBX → BOM → AMD → DEL       1\n",
      "BOM → VGA → TIR → HYD             1\n",
      "CCU → VTZ → BLR                   1\n",
      "BOM → BBI → HYD                   1\n",
      "Name: Route, Length: 132, dtype: int64\n",
      "\n",
      "Delhi       5682\n",
      "Kolkata     3581\n",
      "Banglore    2752\n",
      "Mumbai       883\n",
      "Chennai      456\n",
      "Name: Source, dtype: int64\n",
      "\n",
      "1 stop      7056\n",
      "non-stop    4340\n",
      "2 stops     1899\n",
      "3 stops       56\n",
      "4 stops        2\n",
      "Name: Total_Stops, dtype: int64\n",
      "\n",
      "train    10683\n",
      "test      2671\n",
      "Name: type, dtype: int64\n",
      "\n"
     ]
    }
   ],
   "source": [
    "#Checking uniques of object datatypes columns to improve\n",
    "for col in df_flight.columns:\n",
    "    if df_flight[col].dtype==\"object\":\n",
    "        print(df_flight[col].value_counts())\n",
    "        print()"
   ]
  },
  {
   "cell_type": "code",
   "execution_count": 54,
   "metadata": {},
   "outputs": [],
   "source": [
    "#Coorecting some unique values in these object data\n",
    "df_flight[\"Destination\"].replace(\"New Delhi\",\"Delhi\",inplace=True)\n",
    "df_flight[\"Additional_Info\"].replace(\"No Info\",\"No info\",inplace=True)"
   ]
  },
  {
   "cell_type": "code",
   "execution_count": 55,
   "metadata": {},
   "outputs": [],
   "source": [
    "df_flight[\"Total_Stops\"].replace(\"non-stop\",\"0 stop\",inplace=True)"
   ]
  },
  {
   "cell_type": "code",
   "execution_count": 61,
   "metadata": {},
   "outputs": [],
   "source": [
    "#Removing stops and stop from Total_stops column to make it int type\n",
    "df_flight[\"Total_Stops\"]=df_flight[\"Total_Stops\"].str.strip(\"stop\")"
   ]
  },
  {
   "cell_type": "code",
   "execution_count": 64,
   "metadata": {},
   "outputs": [],
   "source": [
    "#Dropping  unimportant cloumns\n",
    "df_flight.drop(columns=['Arrival_Time'],axis=1,inplace=True)"
   ]
  },
  {
   "cell_type": "code",
   "execution_count": 67,
   "metadata": {},
   "outputs": [],
   "source": [
    "df_flight.drop(columns=[\"Date_of_Journey\",\"Route\"],inplace=True)"
   ]
  },
  {
   "cell_type": "code",
   "execution_count": 65,
   "metadata": {},
   "outputs": [],
   "source": [
    "df_flight[\"time_of_day\"]=np.where((df_flight[\"Dep_Time\"].dt.hour>=0)&(df_flight[\"Dep_Time\"].dt.hour<=2),\"Late Night\",\n",
    "                                  np.where((df_flight[\"Dep_Time\"].dt.hour>=3)&(df_flight[\"Dep_Time\"].dt.hour<=7),\"Early Morning\",\n",
    "                                           np.where((df_flight[\"Dep_Time\"].dt.hour>=8)&(df_flight[\"Dep_Time\"].dt.hour<=11),\"Morning\",\n",
    "                                                    np.where((df_flight[\"Dep_Time\"].dt.hour>=12)&(df_flight[\"Dep_Time\"].dt.hour<=16),\"Afternoon\",\n",
    "                                                             np.where((df_flight[\"Dep_Time\"].dt.hour>=17)&(df_flight[\"Dep_Time\"].dt.hour<=19),\"Evening\",\"Night\")))))"
   ]
  },
  {
   "cell_type": "code",
   "execution_count": 68,
   "metadata": {},
   "outputs": [
    {
     "data": {
      "text/html": [
       "<div>\n",
       "<style scoped>\n",
       "    .dataframe tbody tr th:only-of-type {\n",
       "        vertical-align: middle;\n",
       "    }\n",
       "\n",
       "    .dataframe tbody tr th {\n",
       "        vertical-align: top;\n",
       "    }\n",
       "\n",
       "    .dataframe thead th {\n",
       "        text-align: right;\n",
       "    }\n",
       "</style>\n",
       "<table border=\"1\" class=\"dataframe\">\n",
       "  <thead>\n",
       "    <tr style=\"text-align: right;\">\n",
       "      <th></th>\n",
       "      <th>Additional_Info</th>\n",
       "      <th>Airline</th>\n",
       "      <th>Dep_Time</th>\n",
       "      <th>Destination</th>\n",
       "      <th>Duration</th>\n",
       "      <th>Price</th>\n",
       "      <th>Source</th>\n",
       "      <th>Total_Stops</th>\n",
       "      <th>type</th>\n",
       "      <th>time_of_day</th>\n",
       "    </tr>\n",
       "  </thead>\n",
       "  <tbody>\n",
       "    <tr>\n",
       "      <td>0</td>\n",
       "      <td>No info</td>\n",
       "      <td>IndiGo</td>\n",
       "      <td>2020-04-29 22:20:00</td>\n",
       "      <td>Delhi</td>\n",
       "      <td>2.83</td>\n",
       "      <td>3897.00</td>\n",
       "      <td>Banglore</td>\n",
       "      <td>0</td>\n",
       "      <td>train</td>\n",
       "      <td>Night</td>\n",
       "    </tr>\n",
       "    <tr>\n",
       "      <td>1</td>\n",
       "      <td>No info</td>\n",
       "      <td>Air India</td>\n",
       "      <td>2020-04-29 05:50:00</td>\n",
       "      <td>Banglore</td>\n",
       "      <td>7.42</td>\n",
       "      <td>7662.00</td>\n",
       "      <td>Kolkata</td>\n",
       "      <td>2</td>\n",
       "      <td>train</td>\n",
       "      <td>Early Morning</td>\n",
       "    </tr>\n",
       "    <tr>\n",
       "      <td>2</td>\n",
       "      <td>No info</td>\n",
       "      <td>Jet Airways</td>\n",
       "      <td>2020-04-29 09:25:00</td>\n",
       "      <td>Cochin</td>\n",
       "      <td>19.00</td>\n",
       "      <td>13882.00</td>\n",
       "      <td>Delhi</td>\n",
       "      <td>2</td>\n",
       "      <td>train</td>\n",
       "      <td>Morning</td>\n",
       "    </tr>\n",
       "    <tr>\n",
       "      <td>3</td>\n",
       "      <td>No info</td>\n",
       "      <td>IndiGo</td>\n",
       "      <td>2020-04-29 18:05:00</td>\n",
       "      <td>Banglore</td>\n",
       "      <td>5.42</td>\n",
       "      <td>6218.00</td>\n",
       "      <td>Kolkata</td>\n",
       "      <td>1</td>\n",
       "      <td>train</td>\n",
       "      <td>Evening</td>\n",
       "    </tr>\n",
       "    <tr>\n",
       "      <td>4</td>\n",
       "      <td>No info</td>\n",
       "      <td>IndiGo</td>\n",
       "      <td>2020-04-29 16:50:00</td>\n",
       "      <td>Delhi</td>\n",
       "      <td>4.75</td>\n",
       "      <td>13302.00</td>\n",
       "      <td>Banglore</td>\n",
       "      <td>1</td>\n",
       "      <td>train</td>\n",
       "      <td>Afternoon</td>\n",
       "    </tr>\n",
       "  </tbody>\n",
       "</table>\n",
       "</div>"
      ],
      "text/plain": [
       "  Additional_Info      Airline            Dep_Time Destination  Duration  \\\n",
       "0         No info       IndiGo 2020-04-29 22:20:00       Delhi      2.83   \n",
       "1         No info    Air India 2020-04-29 05:50:00    Banglore      7.42   \n",
       "2         No info  Jet Airways 2020-04-29 09:25:00      Cochin     19.00   \n",
       "3         No info       IndiGo 2020-04-29 18:05:00    Banglore      5.42   \n",
       "4         No info       IndiGo 2020-04-29 16:50:00       Delhi      4.75   \n",
       "\n",
       "     Price    Source Total_Stops   type    time_of_day  \n",
       "0  3897.00  Banglore          0   train          Night  \n",
       "1  7662.00   Kolkata          2   train  Early Morning  \n",
       "2 13882.00     Delhi          2   train        Morning  \n",
       "3  6218.00   Kolkata          1   train        Evening  \n",
       "4 13302.00  Banglore          1   train      Afternoon  "
      ]
     },
     "execution_count": 68,
     "metadata": {},
     "output_type": "execute_result"
    }
   ],
   "source": [
    "df_flight.head(5)"
   ]
  },
  {
   "cell_type": "markdown",
   "metadata": {},
   "source": [
    "We can see that we have now the needed data to perfom EDA and to train our model for prediction"
   ]
  },
  {
   "cell_type": "markdown",
   "metadata": {},
   "source": [
    "--Performing graphical EDA for the above data to get insight of data--"
   ]
  },
  {
   "cell_type": "code",
   "execution_count": 70,
   "metadata": {},
   "outputs": [],
   "source": [
    "#Importing some more necessary libraries\n",
    "import seaborn as sns\n",
    "import matplotlib.pyplot as plt"
   ]
  },
  {
   "cell_type": "code",
   "execution_count": 72,
   "metadata": {},
   "outputs": [
    {
     "data": {
      "image/png": "[encoded data removed]",
      "text/plain": [
       "<Figure size 720x576 with 1 Axes>"
      ]
     },
     "metadata": {
      "needs_background": "light"
     },
     "output_type": "display_data"
    }
   ],
   "source": [
    "plt.figure(figsize=(10,8))\n",
    "sns.barplot(x=\"Total_Stops\",y=\"Price\",data=df_flight)\n",
    "plt.xlabel('Number of Stops')\n",
    "plt.show()"
   ]
  },
  {
   "cell_type": "markdown",
   "metadata": {},
   "source": [
    "We can see that Prices of flight with more number of stops are more"
   ]
  },
  {
   "cell_type": "code",
   "execution_count": 73,
   "metadata": {},
   "outputs": [
    {
     "data": {
      "image/png": "[encoded data removed]",
      "text/plain": [
       "<Figure size 720x576 with 1 Axes>"
      ]
     },
     "metadata": {
      "needs_background": "light"
     },
     "output_type": "display_data"
    }
   ],
   "source": [
    "plt.figure(figsize=(10,8))\n",
    "sns.barplot(x=\"Source\",y=\"Price\",data=df_flight)\n",
    "plt.xticks(rotation=20)\n",
    "plt.show()"
   ]
  },
  {
   "cell_type": "code",
   "execution_count": 74,
   "metadata": {},
   "outputs": [
    {
     "data": {
      "image/png": "[encoded data removed]",
      "text/plain": [
       "<Figure size 720x576 with 1 Axes>"
      ]
     },
     "metadata": {
      "needs_background": "light"
     },
     "output_type": "display_data"
    }
   ],
   "source": [
    "plt.figure(figsize=(10,8))\n",
    "sns.barplot(x=\"Destination\",y=\"Price\",data=df_flight)\n",
    "plt.xticks(rotation=20)\n",
    "plt.show()"
   ]
  },
  {
   "cell_type": "code",
   "execution_count": 76,
   "metadata": {},
   "outputs": [
    {
     "data": {
      "image/png": "[encoded data removed]",
      "text/plain": [
       "<Figure size 432x432 with 1 Axes>"
      ]
     },
     "metadata": {
      "needs_background": "light"
     },
     "output_type": "display_data"
    }
   ],
   "source": [
    "plt.figure(figsize=(6,6))\n",
    "sns.barplot(x=\"time_of_day\",y=\"Price\",data=df_flight)\n",
    "plt.xticks(rotation=20)\n",
    "plt.show()"
   ]
  },
  {
   "cell_type": "markdown",
   "metadata": {},
   "source": [
    "We can see that late night flights are bit cheaper as compared to others"
   ]
  },
  {
   "cell_type": "code",
   "execution_count": 77,
   "metadata": {},
   "outputs": [
    {
     "data": {
      "image/png": "[encoded data removed]",
      "text/plain": [
       "<Figure size 576x432 with 1 Axes>"
      ]
     },
     "metadata": {
      "needs_background": "light"
     },
     "output_type": "display_data"
    }
   ],
   "source": [
    "plt.figure(figsize=(8,6))\n",
    "sns.barplot(x=\"Airline\",y=\"Price\",data=df_flight)\n",
    "plt.xticks(rotation=20)\n",
    "plt.show()"
   ]
  },
  {
   "cell_type": "markdown",
   "metadata": {},
   "source": [
    "We can see that Spicejet and Trujet are the best flight in terms of price"
   ]
  },
  {
   "cell_type": "code",
   "execution_count": 78,
   "metadata": {},
   "outputs": [
    {
     "data": {
      "text/html": [
       "<div>\n",
       "<style scoped>\n",
       "    .dataframe tbody tr th:only-of-type {\n",
       "        vertical-align: middle;\n",
       "    }\n",
       "\n",
       "    .dataframe tbody tr th {\n",
       "        vertical-align: top;\n",
       "    }\n",
       "\n",
       "    .dataframe thead tr th {\n",
       "        text-align: left;\n",
       "    }\n",
       "\n",
       "    .dataframe thead tr:last-of-type th {\n",
       "        text-align: right;\n",
       "    }\n",
       "</style>\n",
       "<table border=\"1\" class=\"dataframe\">\n",
       "  <thead>\n",
       "    <tr>\n",
       "      <th></th>\n",
       "      <th>mean</th>\n",
       "      <th>median</th>\n",
       "      <th>min</th>\n",
       "      <th>max</th>\n",
       "    </tr>\n",
       "    <tr>\n",
       "      <th></th>\n",
       "      <th>Price</th>\n",
       "      <th>Price</th>\n",
       "      <th>Price</th>\n",
       "      <th>Price</th>\n",
       "    </tr>\n",
       "    <tr>\n",
       "      <th>Airline</th>\n",
       "      <th></th>\n",
       "      <th></th>\n",
       "      <th></th>\n",
       "      <th></th>\n",
       "    </tr>\n",
       "  </thead>\n",
       "  <tbody>\n",
       "    <tr>\n",
       "      <td>Air Asia</td>\n",
       "      <td>5590.26</td>\n",
       "      <td>5162.00</td>\n",
       "      <td>3383.00</td>\n",
       "      <td>13774.00</td>\n",
       "    </tr>\n",
       "    <tr>\n",
       "      <td>Air India</td>\n",
       "      <td>9611.21</td>\n",
       "      <td>9443.00</td>\n",
       "      <td>2050.00</td>\n",
       "      <td>31945.00</td>\n",
       "    </tr>\n",
       "    <tr>\n",
       "      <td>GoAir</td>\n",
       "      <td>5861.06</td>\n",
       "      <td>5135.00</td>\n",
       "      <td>3398.00</td>\n",
       "      <td>22794.00</td>\n",
       "    </tr>\n",
       "    <tr>\n",
       "      <td>IndiGo</td>\n",
       "      <td>5673.68</td>\n",
       "      <td>5000.00</td>\n",
       "      <td>2227.00</td>\n",
       "      <td>22153.00</td>\n",
       "    </tr>\n",
       "    <tr>\n",
       "      <td>Jet Airways</td>\n",
       "      <td>11716.63</td>\n",
       "      <td>11467.00</td>\n",
       "      <td>1840.00</td>\n",
       "      <td>79512.00</td>\n",
       "    </tr>\n",
       "    <tr>\n",
       "      <td>Multiple carriers</td>\n",
       "      <td>10908.23</td>\n",
       "      <td>10197.00</td>\n",
       "      <td>5797.00</td>\n",
       "      <td>36983.00</td>\n",
       "    </tr>\n",
       "    <tr>\n",
       "      <td>SpiceJet</td>\n",
       "      <td>4338.28</td>\n",
       "      <td>3873.00</td>\n",
       "      <td>1759.00</td>\n",
       "      <td>23267.00</td>\n",
       "    </tr>\n",
       "    <tr>\n",
       "      <td>Trujet</td>\n",
       "      <td>4140.00</td>\n",
       "      <td>4140.00</td>\n",
       "      <td>4140.00</td>\n",
       "      <td>4140.00</td>\n",
       "    </tr>\n",
       "    <tr>\n",
       "      <td>Vistara</td>\n",
       "      <td>7803.61</td>\n",
       "      <td>7980.00</td>\n",
       "      <td>3687.00</td>\n",
       "      <td>21730.00</td>\n",
       "    </tr>\n",
       "  </tbody>\n",
       "</table>\n",
       "</div>"
      ],
      "text/plain": [
       "                      mean   median     min      max\n",
       "                     Price    Price   Price    Price\n",
       "Airline                                             \n",
       "Air Asia           5590.26  5162.00 3383.00 13774.00\n",
       "Air India          9611.21  9443.00 2050.00 31945.00\n",
       "GoAir              5861.06  5135.00 3398.00 22794.00\n",
       "IndiGo             5673.68  5000.00 2227.00 22153.00\n",
       "Jet Airways       11716.63 11467.00 1840.00 79512.00\n",
       "Multiple carriers 10908.23 10197.00 5797.00 36983.00\n",
       "SpiceJet           4338.28  3873.00 1759.00 23267.00\n",
       "Trujet             4140.00  4140.00 4140.00  4140.00\n",
       "Vistara            7803.61  7980.00 3687.00 21730.00"
      ]
     },
     "execution_count": 78,
     "metadata": {},
     "output_type": "execute_result"
    }
   ],
   "source": [
    "pd.pivot_table(df_flight,index=['Airline'],values='Price',aggfunc=[np.mean,np.median,min,max])"
   ]
  },
  {
   "cell_type": "code",
   "execution_count": 88,
   "metadata": {},
   "outputs": [
    {
     "data": {
      "image/png": "[encoded data removed]",
      "text/plain": [
       "<Figure size 1080x576 with 1 Axes>"
      ]
     },
     "metadata": {
      "needs_background": "light"
     },
     "output_type": "display_data"
    }
   ],
   "source": [
    "plt.figure(figsize=(15,8))\n",
    "sns.scatterplot(x=\"Duration\",y=\"Price\",hue='Airline',size='Airline',data=df_flight)\n",
    "plt.show()"
   ]
  },
  {
   "cell_type": "code",
   "execution_count": 89,
   "metadata": {},
   "outputs": [],
   "source": [
    "#Encoding categorical data types using one hot encoder\n",
    "df_flight_new=pd.get_dummies(df_flight,columns=[\"Additional_Info\",\"Airline\",\"Destination\",\"Source\",\"time_of_day\"],drop_first=True)"
   ]
  },
  {
   "cell_type": "code",
   "execution_count": 90,
   "metadata": {},
   "outputs": [
    {
     "data": {
      "text/plain": [
       "(13354, 34)"
      ]
     },
     "execution_count": 90,
     "metadata": {},
     "output_type": "execute_result"
    }
   ],
   "source": [
    "df_flight_new.shape"
   ]
  },
  {
   "cell_type": "code",
   "execution_count": 97,
   "metadata": {},
   "outputs": [],
   "source": [
    "df_flight_new.drop(columns=[\"Dep_Time\"],inplace=True)"
   ]
  },
  {
   "cell_type": "code",
   "execution_count": 98,
   "metadata": {},
   "outputs": [
    {
     "data": {
      "text/html": [
       "<div>\n",
       "<style scoped>\n",
       "    .dataframe tbody tr th:only-of-type {\n",
       "        vertical-align: middle;\n",
       "    }\n",
       "\n",
       "    .dataframe tbody tr th {\n",
       "        vertical-align: top;\n",
       "    }\n",
       "\n",
       "    .dataframe thead th {\n",
       "        text-align: right;\n",
       "    }\n",
       "</style>\n",
       "<table border=\"1\" class=\"dataframe\">\n",
       "  <thead>\n",
       "    <tr style=\"text-align: right;\">\n",
       "      <th></th>\n",
       "      <th>Duration</th>\n",
       "      <th>Price</th>\n",
       "      <th>Total_Stops</th>\n",
       "      <th>type</th>\n",
       "      <th>Additional_Info_1 Short layover</th>\n",
       "      <th>Additional_Info_2 Long layover</th>\n",
       "      <th>Additional_Info_Business class</th>\n",
       "      <th>Additional_Info_Change airports</th>\n",
       "      <th>Additional_Info_In-flight meal not included</th>\n",
       "      <th>Additional_Info_No check-in baggage included</th>\n",
       "      <th>...</th>\n",
       "      <th>Destination_Kolkata</th>\n",
       "      <th>Source_Chennai</th>\n",
       "      <th>Source_Delhi</th>\n",
       "      <th>Source_Kolkata</th>\n",
       "      <th>Source_Mumbai</th>\n",
       "      <th>time_of_day_Early Morning</th>\n",
       "      <th>time_of_day_Evening</th>\n",
       "      <th>time_of_day_Late Night</th>\n",
       "      <th>time_of_day_Morning</th>\n",
       "      <th>time_of_day_Night</th>\n",
       "    </tr>\n",
       "  </thead>\n",
       "  <tbody>\n",
       "    <tr>\n",
       "      <td>0</td>\n",
       "      <td>2.83</td>\n",
       "      <td>3897.00</td>\n",
       "      <td>0</td>\n",
       "      <td>train</td>\n",
       "      <td>0</td>\n",
       "      <td>0</td>\n",
       "      <td>0</td>\n",
       "      <td>0</td>\n",
       "      <td>0</td>\n",
       "      <td>0</td>\n",
       "      <td>...</td>\n",
       "      <td>0</td>\n",
       "      <td>0</td>\n",
       "      <td>0</td>\n",
       "      <td>0</td>\n",
       "      <td>0</td>\n",
       "      <td>0</td>\n",
       "      <td>0</td>\n",
       "      <td>0</td>\n",
       "      <td>0</td>\n",
       "      <td>1</td>\n",
       "    </tr>\n",
       "    <tr>\n",
       "      <td>1</td>\n",
       "      <td>7.42</td>\n",
       "      <td>7662.00</td>\n",
       "      <td>2</td>\n",
       "      <td>train</td>\n",
       "      <td>0</td>\n",
       "      <td>0</td>\n",
       "      <td>0</td>\n",
       "      <td>0</td>\n",
       "      <td>0</td>\n",
       "      <td>0</td>\n",
       "      <td>...</td>\n",
       "      <td>0</td>\n",
       "      <td>0</td>\n",
       "      <td>0</td>\n",
       "      <td>1</td>\n",
       "      <td>0</td>\n",
       "      <td>1</td>\n",
       "      <td>0</td>\n",
       "      <td>0</td>\n",
       "      <td>0</td>\n",
       "      <td>0</td>\n",
       "    </tr>\n",
       "    <tr>\n",
       "      <td>2</td>\n",
       "      <td>19.00</td>\n",
       "      <td>13882.00</td>\n",
       "      <td>2</td>\n",
       "      <td>train</td>\n",
       "      <td>0</td>\n",
       "      <td>0</td>\n",
       "      <td>0</td>\n",
       "      <td>0</td>\n",
       "      <td>0</td>\n",
       "      <td>0</td>\n",
       "      <td>...</td>\n",
       "      <td>0</td>\n",
       "      <td>0</td>\n",
       "      <td>1</td>\n",
       "      <td>0</td>\n",
       "      <td>0</td>\n",
       "      <td>0</td>\n",
       "      <td>0</td>\n",
       "      <td>0</td>\n",
       "      <td>1</td>\n",
       "      <td>0</td>\n",
       "    </tr>\n",
       "    <tr>\n",
       "      <td>3</td>\n",
       "      <td>5.42</td>\n",
       "      <td>6218.00</td>\n",
       "      <td>1</td>\n",
       "      <td>train</td>\n",
       "      <td>0</td>\n",
       "      <td>0</td>\n",
       "      <td>0</td>\n",
       "      <td>0</td>\n",
       "      <td>0</td>\n",
       "      <td>0</td>\n",
       "      <td>...</td>\n",
       "      <td>0</td>\n",
       "      <td>0</td>\n",
       "      <td>0</td>\n",
       "      <td>1</td>\n",
       "      <td>0</td>\n",
       "      <td>0</td>\n",
       "      <td>1</td>\n",
       "      <td>0</td>\n",
       "      <td>0</td>\n",
       "      <td>0</td>\n",
       "    </tr>\n",
       "    <tr>\n",
       "      <td>4</td>\n",
       "      <td>4.75</td>\n",
       "      <td>13302.00</td>\n",
       "      <td>1</td>\n",
       "      <td>train</td>\n",
       "      <td>0</td>\n",
       "      <td>0</td>\n",
       "      <td>0</td>\n",
       "      <td>0</td>\n",
       "      <td>0</td>\n",
       "      <td>0</td>\n",
       "      <td>...</td>\n",
       "      <td>0</td>\n",
       "      <td>0</td>\n",
       "      <td>0</td>\n",
       "      <td>0</td>\n",
       "      <td>0</td>\n",
       "      <td>0</td>\n",
       "      <td>0</td>\n",
       "      <td>0</td>\n",
       "      <td>0</td>\n",
       "      <td>0</td>\n",
       "    </tr>\n",
       "  </tbody>\n",
       "</table>\n",
       "<p>5 rows × 33 columns</p>\n",
       "</div>"
      ],
      "text/plain": [
       "   Duration    Price Total_Stops   type  Additional_Info_1 Short layover  \\\n",
       "0      2.83  3897.00          0   train                                0   \n",
       "1      7.42  7662.00          2   train                                0   \n",
       "2     19.00 13882.00          2   train                                0   \n",
       "3      5.42  6218.00          1   train                                0   \n",
       "4      4.75 13302.00          1   train                                0   \n",
       "\n",
       "   Additional_Info_2 Long layover  Additional_Info_Business class  \\\n",
       "0                               0                               0   \n",
       "1                               0                               0   \n",
       "2                               0                               0   \n",
       "3                               0                               0   \n",
       "4                               0                               0   \n",
       "\n",
       "   Additional_Info_Change airports  \\\n",
       "0                                0   \n",
       "1                                0   \n",
       "2                                0   \n",
       "3                                0   \n",
       "4                                0   \n",
       "\n",
       "   Additional_Info_In-flight meal not included  \\\n",
       "0                                            0   \n",
       "1                                            0   \n",
       "2                                            0   \n",
       "3                                            0   \n",
       "4                                            0   \n",
       "\n",
       "   Additional_Info_No check-in baggage included  ...  Destination_Kolkata  \\\n",
       "0                                             0  ...                    0   \n",
       "1                                             0  ...                    0   \n",
       "2                                             0  ...                    0   \n",
       "3                                             0  ...                    0   \n",
       "4                                             0  ...                    0   \n",
       "\n",
       "   Source_Chennai  Source_Delhi  Source_Kolkata  Source_Mumbai  \\\n",
       "0               0             0               0              0   \n",
       "1               0             0               1              0   \n",
       "2               0             1               0              0   \n",
       "3               0             0               1              0   \n",
       "4               0             0               0              0   \n",
       "\n",
       "   time_of_day_Early Morning  time_of_day_Evening  time_of_day_Late Night  \\\n",
       "0                          0                    0                       0   \n",
       "1                          1                    0                       0   \n",
       "2                          0                    0                       0   \n",
       "3                          0                    1                       0   \n",
       "4                          0                    0                       0   \n",
       "\n",
       "   time_of_day_Morning  time_of_day_Night  \n",
       "0                    0                  1  \n",
       "1                    0                  0  \n",
       "2                    1                  0  \n",
       "3                    0                  0  \n",
       "4                    0                  0  \n",
       "\n",
       "[5 rows x 33 columns]"
      ]
     },
     "execution_count": 98,
     "metadata": {},
     "output_type": "execute_result"
    }
   ],
   "source": [
    "df_flight_new.head()"
   ]
  },
  {
   "cell_type": "code",
   "execution_count": 121,
   "metadata": {},
   "outputs": [],
   "source": [
    "#Separating test and train data\n",
    "df_train=df_flight_new.loc[df_flight_new[\"type\"]==\"train\"]\n",
    "df_test=df_flight_new.loc[df_flight_new[\"type\"]==\"test\"]"
   ]
  },
  {
   "cell_type": "code",
   "execution_count": 127,
   "metadata": {},
   "outputs": [],
   "source": [
    "#Dropping the type column\n",
    "df_test.drop(columns=[\"type\",\"Price\"],inplace=True)"
   ]
  },
  {
   "cell_type": "code",
   "execution_count": 125,
   "metadata": {},
   "outputs": [],
   "source": [
    "df_train.drop(columns=[\"type\"],inplace=True)"
   ]
  },
  {
   "cell_type": "code",
   "execution_count": 128,
   "metadata": {},
   "outputs": [],
   "source": [
    "#Separating the input and output from train dataset\n",
    "df_x=df_train.drop(columns=[\"Price\"])\n",
    "y=df_train[[\"Price\"]]"
   ]
  },
  {
   "cell_type": "code",
   "execution_count": 129,
   "metadata": {},
   "outputs": [],
   "source": [
    "#Performing scaling\n",
    "from sklearn.preprocessing import StandardScaler\n",
    "sc = StandardScaler()\n",
    "x = sc.fit_transform(df_x)\n",
    "x=pd.DataFrame(x,columns=df_x.columns)"
   ]
  },
  {
   "cell_type": "code",
   "execution_count": 130,
   "metadata": {},
   "outputs": [],
   "source": [
    "#Importing some neccessary libraries \n",
    "from sklearn.metrics import mean_absolute_error\n",
    "from sklearn.metrics import mean_squared_error\n",
    "from sklearn.metrics import r2_score\n",
    "from sklearn.metrics import mean_squared_error\n",
    "from sklearn.model_selection import cross_val_score\n",
    "from sklearn.model_selection import train_test_split"
   ]
  },
  {
   "cell_type": "code",
   "execution_count": 131,
   "metadata": {},
   "outputs": [],
   "source": [
    "#Checking for best random state which give best r2 score for various training techniques used to get best prediction\n",
    "# Defining a function to check for best random state and r2 score.\n",
    "def maxr2_score(tec,x,y):\n",
    "    max_r_score=0\n",
    "    for r_state in range(42,100):\n",
    "        train_x,test_x,train_y,test_y = train_test_split(x,y,random_state = r_state,test_size=0.20)\n",
    "        tec.fit(train_x,train_y)\n",
    "        pred = tec.predict(test_x)\n",
    "        temp=r2_score(test_y,pred)\n",
    "        if temp>max_r_score:\n",
    "            max_r_score=temp\n",
    "            final_r_state=r_state\n",
    "    print(\"max r2 score is : \",max_r_score, 'corresponding to random state: ',final_r_state,)"
   ]
  },
  {
   "cell_type": "code",
   "execution_count": 132,
   "metadata": {},
   "outputs": [],
   "source": [
    "#Importing various methods from libraries\n",
    "from sklearn.linear_model import LinearRegression\n",
    "from sklearn.tree import DecisionTreeRegressor\n",
    "from sklearn.ensemble import RandomForestRegressor\n",
    "from sklearn.ensemble import AdaBoostRegressor\n",
    "from sklearn.ensemble import GradientBoostingRegressor\n",
    "from sklearn.model_selection import GridSearchCV\n",
    "from sklearn.neighbors import KNeighborsRegressor\n",
    "from sklearn import svm\n",
    "from sklearn.svm import SVR\n",
    "import warnings\n",
    "warnings.filterwarnings(\"ignore\")"
   ]
  },
  {
   "cell_type": "code",
   "execution_count": 133,
   "metadata": {},
   "outputs": [],
   "source": [
    "train_x,test_x,train_y,test_y=train_test_split(x, y,test_size=0.20,random_state=42)"
   ]
  },
  {
   "cell_type": "code",
   "execution_count": 135,
   "metadata": {},
   "outputs": [
    {
     "name": "stdout",
     "output_type": "stream",
     "text": [
      "max r2 score is :  0.6785527689841898 corresponding to random state:  58\n"
     ]
    }
   ],
   "source": [
    "LR=LinearRegression()\n",
    "maxr2_score(LR,x,y)"
   ]
  },
  {
   "cell_type": "code",
   "execution_count": 136,
   "metadata": {},
   "outputs": [
    {
     "name": "stdout",
     "output_type": "stream",
     "text": [
      "max r2 score is :  0.7613434138435065 corresponding to random state:  77\n"
     ]
    }
   ],
   "source": [
    "KN=KNeighborsRegressor()\n",
    "maxr2_score(KN,x,y)"
   ]
  },
  {
   "cell_type": "code",
   "execution_count": 137,
   "metadata": {},
   "outputs": [
    {
     "name": "stdout",
     "output_type": "stream",
     "text": [
      "max r2 score is :  0.7549174229824344 corresponding to random state:  77\n"
     ]
    }
   ],
   "source": [
    "RF=RandomForestRegressor()\n",
    "maxr2_score(RF,x,y)"
   ]
  },
  {
   "cell_type": "code",
   "execution_count": 138,
   "metadata": {},
   "outputs": [
    {
     "name": "stdout",
     "output_type": "stream",
     "text": [
      "max r2 score is :  0.6180570305918172 corresponding to random state:  87\n"
     ]
    }
   ],
   "source": [
    "AB=AdaBoostRegressor()\n",
    "maxr2_score(AB,x,y)"
   ]
  },
  {
   "cell_type": "code",
   "execution_count": 139,
   "metadata": {},
   "outputs": [
    {
     "name": "stdout",
     "output_type": "stream",
     "text": [
      "max r2 score is :  0.7374896435879748 corresponding to random state:  77\n"
     ]
    }
   ],
   "source": [
    "GB=GradientBoostingRegressor()\n",
    "maxr2_score(GB,x,y)"
   ]
  },
  {
   "cell_type": "code",
   "execution_count": 148,
   "metadata": {},
   "outputs": [
    {
     "data": {
      "text/plain": [
       "{'max_features': 'sqrt',\n",
       " 'min_samples_leaf': 1,\n",
       " 'min_samples_split': 10,\n",
       " 'n_estimators': 100}"
      ]
     },
     "execution_count": 148,
     "metadata": {},
     "output_type": "execute_result"
    }
   ],
   "source": [
    "#Using Grid search CV for best parameters to improve the r2 score\n",
    "from sklearn.model_selection import GridSearchCV\n",
    "import warnings\n",
    "warnings.filterwarnings(\"ignore\")\n",
    "RF=RandomForestRegressor()\n",
    "parameters = {\"n_estimators\":[10,100,500],'max_features':['auto', 'sqrt'],\n",
    "             'min_samples_split':[2, 5, 10],'min_samples_leaf': [1,2, 5]}\n",
    "clf = GridSearchCV(RF, parameters, cv=5,scoring=\"r2\")\n",
    "clf.fit(x,y)\n",
    "clf.best_params_"
   ]
  },
  {
   "cell_type": "code",
   "execution_count": 149,
   "metadata": {},
   "outputs": [
    {
     "name": "stdout",
     "output_type": "stream",
     "text": [
      "max r2 score is :  0.7809155813334605 corresponding to random state:  77\n"
     ]
    }
   ],
   "source": [
    "RF=RandomForestRegressor(n_estimators=100,max_features= 'sqrt',min_samples_leaf= 1,min_samples_split=10)\n",
    "maxr2_score(RF,x,y)"
   ]
  },
  {
   "cell_type": "markdown",
   "metadata": {},
   "source": [
    "We can see that we have imporved r2 score and maximum is given by Random Forest technuque"
   ]
  },
  {
   "cell_type": "code",
   "execution_count": 150,
   "metadata": {},
   "outputs": [
    {
     "name": "stdout",
     "output_type": "stream",
     "text": [
      "Mean r2 score for regressor:  0.7345622972996375\n",
      "standard deviation in r2 score for regressor:  0.014720613780043293\n"
     ]
    }
   ],
   "source": [
    "c_scores=cross_val_score(RF,x,y,cv=5,scoring=\"r2\")\n",
    "print(\"Mean r2 score for regressor: \",c_scores.mean())\n",
    "print(\"standard deviation in r2 score for regressor: \",c_scores.std())"
   ]
  },
  {
   "cell_type": "code",
   "execution_count": 153,
   "metadata": {},
   "outputs": [],
   "source": [
    "#Saving our final model using Gradient Boosting Regression method\n",
    "train_x,test_x,train_y,test_y = train_test_split(x,y,random_state=77,test_size=0.20)\n",
    "RF.fit(train_x,train_y)\n",
    "pred_fare=RF.predict(df_test)"
   ]
  },
  {
   "cell_type": "code",
   "execution_count": 154,
   "metadata": {},
   "outputs": [],
   "source": [
    "pred_fare=pd.DataFrame(pred_fare,columns=[\"Price\"])"
   ]
  },
  {
   "cell_type": "code",
   "execution_count": 155,
   "metadata": {},
   "outputs": [],
   "source": [
    "#saving our predicted COST column to the system\n",
    "\n",
    "pred_fare.to_csv('C:/Users/Arjun Rao/Downloads/predicted_fares.csv',index=False)"
   ]
  },
  {
   "cell_type": "markdown",
   "metadata": {},
   "source": [
    "**This is we have saved the prdicted food cost file to the system**"
   ]
  },
  {
   "cell_type": "code",
   "execution_count": null,
   "metadata": {},
   "outputs": [],
   "source": []
  }
 ],
 "metadata": {
  "kernelspec": {
   "display_name": "Python 3",
   "language": "python",
   "name": "python3"
  }
 },
 "nbformat": 4,
 "nbformat_minor": 2
}
